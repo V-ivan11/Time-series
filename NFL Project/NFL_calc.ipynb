{
  "nbformat": 4,
  "nbformat_minor": 0,
  "metadata": {
    "colab": {
      "provenance": []
    },
    "kernelspec": {
      "name": "python3",
      "display_name": "Python 3"
    },
    "language_info": {
      "name": "python"
    }
  },
  "cells": [
    {
      "cell_type": "code",
      "execution_count": 21,
      "metadata": {
        "id": "KQ-Xf79rnJrg"
      },
      "outputs": [],
      "source": [
        "import pandas as pd\n",
        "import numpy as np\n",
        "import re"
      ]
    },
    {
      "cell_type": "code",
      "source": [
        "# Creamos diccionario de los equipos de la NFL\n",
        "nfl_teams = pd.read_csv('Datos/nfl_teams.csv')\n",
        "names = dict(zip(nfl_teams[\"team_name\"], nfl_teams[\"team_id\"]))\n",
        "\n",
        "# Prueba\n",
        "names[\"Jacksonville Jaguars\"]"
      ],
      "metadata": {
        "colab": {
          "base_uri": "https://localhost:8080/",
          "height": 35
        },
        "id": "MGMyTQrJn1ik",
        "outputId": "cb1939d2-c8fb-41a2-9058-63f5ee76eca2"
      },
      "execution_count": 22,
      "outputs": [
        {
          "output_type": "execute_result",
          "data": {
            "text/plain": [
              "'JAX'"
            ],
            "application/vnd.google.colaboratory.intrinsic+json": {
              "type": "string"
            }
          },
          "metadata": {},
          "execution_count": 22
        }
      ]
    },
    {
      "cell_type": "code",
      "source": [
        "# Filtramos los datos por los años con mayor disponibilidad de los datos\n",
        "nfl_scores = pd.read_csv('Datos/spreadspoke_scores.csv', encoding='utf-8')\n",
        "nfl_scores = nfl_scores[nfl_scores[\"schedule_season\"] >= 1999]\n",
        "nfl_scores = nfl_scores.reset_index()\n",
        "nfl_scores.head()"
      ],
      "metadata": {
        "colab": {
          "base_uri": "https://localhost:8080/",
          "height": 357
        },
        "id": "U9hoVWx_oNS-",
        "outputId": "fa5efd61-6ab8-412f-f84b-a2e2fe758682"
      },
      "execution_count": 23,
      "outputs": [
        {
          "output_type": "execute_result",
          "data": {
            "text/plain": [
              "   index schedule_date  schedule_season schedule_week  schedule_playoff  \\\n",
              "0   7095     9/12/1999             1999             1             False   \n",
              "1   7096     9/12/1999             1999             1             False   \n",
              "2   7097     9/12/1999             1999             1             False   \n",
              "3   7098     9/12/1999             1999             1             False   \n",
              "4   7099     9/12/1999             1999             1             False   \n",
              "\n",
              "            team_home  score_home  score_away            team_away  \\\n",
              "0     Atlanta Falcons          14          17    Minnesota Vikings   \n",
              "1       Chicago Bears          20          17   Kansas City Chiefs   \n",
              "2    Cleveland Browns           0          43  Pittsburgh Steelers   \n",
              "3   Green Bay Packers          28          24      Oakland Raiders   \n",
              "4  Indianapolis Colts          31          14        Buffalo Bills   \n",
              "\n",
              "  team_favorite_id  spread_favorite over_under_line              stadium  \\\n",
              "0              MIN             -4.0              49         Georgia Dome   \n",
              "1               KC             -3.0              38        Soldier Field   \n",
              "2              PIT             -6.0              37  FirstEnergy Stadium   \n",
              "3               GB             -9.0              43        Lambeau Field   \n",
              "4              BUF             -3.0            45.5             RCA Dome   \n",
              "\n",
              "   stadium_neutral  weather_temperature  weather_wind_mph  weather_humidity  \\\n",
              "0            False                 72.0               0.0               NaN   \n",
              "1            False                 68.0              10.0              69.0   \n",
              "2            False                 70.0              10.0              54.0   \n",
              "3            False                 61.0               9.0              84.0   \n",
              "4            False                 72.0               0.0               NaN   \n",
              "\n",
              "  weather_detail  \n",
              "0         indoor  \n",
              "1            NaN  \n",
              "2            NaN  \n",
              "3            NaN  \n",
              "4         indoor  "
            ],
            "text/html": [
              "\n",
              "  <div id=\"df-21f9da9c-9d70-4031-958a-ba7a72a36400\">\n",
              "    <div class=\"colab-df-container\">\n",
              "      <div>\n",
              "<style scoped>\n",
              "    .dataframe tbody tr th:only-of-type {\n",
              "        vertical-align: middle;\n",
              "    }\n",
              "\n",
              "    .dataframe tbody tr th {\n",
              "        vertical-align: top;\n",
              "    }\n",
              "\n",
              "    .dataframe thead th {\n",
              "        text-align: right;\n",
              "    }\n",
              "</style>\n",
              "<table border=\"1\" class=\"dataframe\">\n",
              "  <thead>\n",
              "    <tr style=\"text-align: right;\">\n",
              "      <th></th>\n",
              "      <th>index</th>\n",
              "      <th>schedule_date</th>\n",
              "      <th>schedule_season</th>\n",
              "      <th>schedule_week</th>\n",
              "      <th>schedule_playoff</th>\n",
              "      <th>team_home</th>\n",
              "      <th>score_home</th>\n",
              "      <th>score_away</th>\n",
              "      <th>team_away</th>\n",
              "      <th>team_favorite_id</th>\n",
              "      <th>spread_favorite</th>\n",
              "      <th>over_under_line</th>\n",
              "      <th>stadium</th>\n",
              "      <th>stadium_neutral</th>\n",
              "      <th>weather_temperature</th>\n",
              "      <th>weather_wind_mph</th>\n",
              "      <th>weather_humidity</th>\n",
              "      <th>weather_detail</th>\n",
              "    </tr>\n",
              "  </thead>\n",
              "  <tbody>\n",
              "    <tr>\n",
              "      <th>0</th>\n",
              "      <td>7095</td>\n",
              "      <td>9/12/1999</td>\n",
              "      <td>1999</td>\n",
              "      <td>1</td>\n",
              "      <td>False</td>\n",
              "      <td>Atlanta Falcons</td>\n",
              "      <td>14</td>\n",
              "      <td>17</td>\n",
              "      <td>Minnesota Vikings</td>\n",
              "      <td>MIN</td>\n",
              "      <td>-4.0</td>\n",
              "      <td>49</td>\n",
              "      <td>Georgia Dome</td>\n",
              "      <td>False</td>\n",
              "      <td>72.0</td>\n",
              "      <td>0.0</td>\n",
              "      <td>NaN</td>\n",
              "      <td>indoor</td>\n",
              "    </tr>\n",
              "    <tr>\n",
              "      <th>1</th>\n",
              "      <td>7096</td>\n",
              "      <td>9/12/1999</td>\n",
              "      <td>1999</td>\n",
              "      <td>1</td>\n",
              "      <td>False</td>\n",
              "      <td>Chicago Bears</td>\n",
              "      <td>20</td>\n",
              "      <td>17</td>\n",
              "      <td>Kansas City Chiefs</td>\n",
              "      <td>KC</td>\n",
              "      <td>-3.0</td>\n",
              "      <td>38</td>\n",
              "      <td>Soldier Field</td>\n",
              "      <td>False</td>\n",
              "      <td>68.0</td>\n",
              "      <td>10.0</td>\n",
              "      <td>69.0</td>\n",
              "      <td>NaN</td>\n",
              "    </tr>\n",
              "    <tr>\n",
              "      <th>2</th>\n",
              "      <td>7097</td>\n",
              "      <td>9/12/1999</td>\n",
              "      <td>1999</td>\n",
              "      <td>1</td>\n",
              "      <td>False</td>\n",
              "      <td>Cleveland Browns</td>\n",
              "      <td>0</td>\n",
              "      <td>43</td>\n",
              "      <td>Pittsburgh Steelers</td>\n",
              "      <td>PIT</td>\n",
              "      <td>-6.0</td>\n",
              "      <td>37</td>\n",
              "      <td>FirstEnergy Stadium</td>\n",
              "      <td>False</td>\n",
              "      <td>70.0</td>\n",
              "      <td>10.0</td>\n",
              "      <td>54.0</td>\n",
              "      <td>NaN</td>\n",
              "    </tr>\n",
              "    <tr>\n",
              "      <th>3</th>\n",
              "      <td>7098</td>\n",
              "      <td>9/12/1999</td>\n",
              "      <td>1999</td>\n",
              "      <td>1</td>\n",
              "      <td>False</td>\n",
              "      <td>Green Bay Packers</td>\n",
              "      <td>28</td>\n",
              "      <td>24</td>\n",
              "      <td>Oakland Raiders</td>\n",
              "      <td>GB</td>\n",
              "      <td>-9.0</td>\n",
              "      <td>43</td>\n",
              "      <td>Lambeau Field</td>\n",
              "      <td>False</td>\n",
              "      <td>61.0</td>\n",
              "      <td>9.0</td>\n",
              "      <td>84.0</td>\n",
              "      <td>NaN</td>\n",
              "    </tr>\n",
              "    <tr>\n",
              "      <th>4</th>\n",
              "      <td>7099</td>\n",
              "      <td>9/12/1999</td>\n",
              "      <td>1999</td>\n",
              "      <td>1</td>\n",
              "      <td>False</td>\n",
              "      <td>Indianapolis Colts</td>\n",
              "      <td>31</td>\n",
              "      <td>14</td>\n",
              "      <td>Buffalo Bills</td>\n",
              "      <td>BUF</td>\n",
              "      <td>-3.0</td>\n",
              "      <td>45.5</td>\n",
              "      <td>RCA Dome</td>\n",
              "      <td>False</td>\n",
              "      <td>72.0</td>\n",
              "      <td>0.0</td>\n",
              "      <td>NaN</td>\n",
              "      <td>indoor</td>\n",
              "    </tr>\n",
              "  </tbody>\n",
              "</table>\n",
              "</div>\n",
              "      <button class=\"colab-df-convert\" onclick=\"convertToInteractive('df-21f9da9c-9d70-4031-958a-ba7a72a36400')\"\n",
              "              title=\"Convert this dataframe to an interactive table.\"\n",
              "              style=\"display:none;\">\n",
              "        \n",
              "  <svg xmlns=\"http://www.w3.org/2000/svg\" height=\"24px\"viewBox=\"0 0 24 24\"\n",
              "       width=\"24px\">\n",
              "    <path d=\"M0 0h24v24H0V0z\" fill=\"none\"/>\n",
              "    <path d=\"M18.56 5.44l.94 2.06.94-2.06 2.06-.94-2.06-.94-.94-2.06-.94 2.06-2.06.94zm-11 1L8.5 8.5l.94-2.06 2.06-.94-2.06-.94L8.5 2.5l-.94 2.06-2.06.94zm10 10l.94 2.06.94-2.06 2.06-.94-2.06-.94-.94-2.06-.94 2.06-2.06.94z\"/><path d=\"M17.41 7.96l-1.37-1.37c-.4-.4-.92-.59-1.43-.59-.52 0-1.04.2-1.43.59L10.3 9.45l-7.72 7.72c-.78.78-.78 2.05 0 2.83L4 21.41c.39.39.9.59 1.41.59.51 0 1.02-.2 1.41-.59l7.78-7.78 2.81-2.81c.8-.78.8-2.07 0-2.86zM5.41 20L4 18.59l7.72-7.72 1.47 1.35L5.41 20z\"/>\n",
              "  </svg>\n",
              "      </button>\n",
              "      \n",
              "  <style>\n",
              "    .colab-df-container {\n",
              "      display:flex;\n",
              "      flex-wrap:wrap;\n",
              "      gap: 12px;\n",
              "    }\n",
              "\n",
              "    .colab-df-convert {\n",
              "      background-color: #E8F0FE;\n",
              "      border: none;\n",
              "      border-radius: 50%;\n",
              "      cursor: pointer;\n",
              "      display: none;\n",
              "      fill: #1967D2;\n",
              "      height: 32px;\n",
              "      padding: 0 0 0 0;\n",
              "      width: 32px;\n",
              "    }\n",
              "\n",
              "    .colab-df-convert:hover {\n",
              "      background-color: #E2EBFA;\n",
              "      box-shadow: 0px 1px 2px rgba(60, 64, 67, 0.3), 0px 1px 3px 1px rgba(60, 64, 67, 0.15);\n",
              "      fill: #174EA6;\n",
              "    }\n",
              "\n",
              "    [theme=dark] .colab-df-convert {\n",
              "      background-color: #3B4455;\n",
              "      fill: #D2E3FC;\n",
              "    }\n",
              "\n",
              "    [theme=dark] .colab-df-convert:hover {\n",
              "      background-color: #434B5C;\n",
              "      box-shadow: 0px 1px 3px 1px rgba(0, 0, 0, 0.15);\n",
              "      filter: drop-shadow(0px 1px 2px rgba(0, 0, 0, 0.3));\n",
              "      fill: #FFFFFF;\n",
              "    }\n",
              "  </style>\n",
              "\n",
              "      <script>\n",
              "        const buttonEl =\n",
              "          document.querySelector('#df-21f9da9c-9d70-4031-958a-ba7a72a36400 button.colab-df-convert');\n",
              "        buttonEl.style.display =\n",
              "          google.colab.kernel.accessAllowed ? 'block' : 'none';\n",
              "\n",
              "        async function convertToInteractive(key) {\n",
              "          const element = document.querySelector('#df-21f9da9c-9d70-4031-958a-ba7a72a36400');\n",
              "          const dataTable =\n",
              "            await google.colab.kernel.invokeFunction('convertToInteractive',\n",
              "                                                     [key], {});\n",
              "          if (!dataTable) return;\n",
              "\n",
              "          const docLinkHtml = 'Like what you see? Visit the ' +\n",
              "            '<a target=\"_blank\" href=https://colab.research.google.com/notebooks/data_table.ipynb>data table notebook</a>'\n",
              "            + ' to learn more about interactive tables.';\n",
              "          element.innerHTML = '';\n",
              "          dataTable['output_type'] = 'display_data';\n",
              "          await google.colab.output.renderOutput(dataTable, element);\n",
              "          const docLink = document.createElement('div');\n",
              "          docLink.innerHTML = docLinkHtml;\n",
              "          element.appendChild(docLink);\n",
              "        }\n",
              "      </script>\n",
              "    </div>\n",
              "  </div>\n",
              "  "
            ]
          },
          "metadata": {},
          "execution_count": 23
        }
      ]
    },
    {
      "cell_type": "code",
      "source": [
        "def sum_minsec(times):\n",
        "    total = 0\n",
        "    for time in times:\n",
        "        m, s = map(int, time.split(\":\"))\n",
        "        total += 60*m + s\n",
        "    return total"
      ],
      "metadata": {
        "id": "ykCYhf4lojMc"
      },
      "execution_count": 24,
      "outputs": []
    },
    {
      "cell_type": "code",
      "source": [
        "# Número de partidos a completar los datos\n",
        "n_games = nfl_scores.shape[0]\n",
        "print(n_games)\n",
        "\n",
        "# Inicializamos arreglos para llenar datos\n",
        "td_home = np.zeros(n_games)\n",
        "td_away = np.zeros(n_games)\n",
        "extra_home = np.zeros(n_games)\n",
        "extra_away = np.zeros(n_games)\n",
        "conv_home = np.zeros(n_games)\n",
        "conv_away = np.zeros(n_games)\n",
        "goal_home = np.zeros(n_games)\n",
        "goal_away = np.zeros(n_games)\n",
        "safety_home = np.zeros(n_games)\n",
        "safety_away = np.zeros(n_games)\n",
        "avgyd_home = np.zeros(n_games)\n",
        "avgyd_away = np.zeros(n_games)\n",
        "effdown_home = np.zeros(n_games)\n",
        "effdown_away = np.zeros(n_games)\n",
        "penalized_home = np.zeros(n_games)\n",
        "penalized_away = np.zeros(n_games)\n",
        "timepos_home = np.zeros(n_games)\n",
        "timepos_away = np.zeros(n_games)\n",
        "drives =  np.zeros(n_games)\n",
        "overtime = np.zeros(n_games)"
      ],
      "metadata": {
        "colab": {
          "base_uri": "https://localhost:8080/"
        },
        "id": "R_B-KCNAodMf",
        "outputId": "f680c49c-f775-4a70-829f-fe29d04744fc"
      },
      "execution_count": 25,
      "outputs": [
        {
          "output_type": "stream",
          "name": "stdout",
          "text": [
            "6421\n"
          ]
        }
      ]
    },
    {
      "cell_type": "code",
      "source": [
        "pre_url = 'https://github.com/nflverse/nflverse-data/releases/download/pbp/play_by_play_'\n",
        "end_url = '.csv'\n",
        "urls = []\n",
        "\n",
        "for i in range(1999, 2023):\n",
        "    urls.append( pre_url + str(i) + end_url)"
      ],
      "metadata": {
        "id": "CsaWST3JnUFC"
      },
      "execution_count": 26,
      "outputs": []
    },
    {
      "cell_type": "code",
      "source": [
        "for url in urls:\n",
        "    year = re.findall('[0-9]+', url)[0]\n",
        "    \n",
        "    plays_data = pd.read_csv(url, encoding='utf-8', low_memory=False)\n",
        "\n",
        "    # Obtenemos sólo las columnas que necesitamos\n",
        "    plays_data = plays_data[[\"game_date\", \"season\", \"home_team\", \"touchdown\", \"posteam\", \"extra_point_result\",\n",
        "     \"two_point_conv_result\", \"safety\", \"field_goal_result\", \"penalty_team\", \"penalty\",\n",
        "     \"drive\", \"drive_first_downs\", \"drive_play_count\", \"drive_time_of_possession\",\n",
        "     \"ydsnet\", \"qtr\"]]\n",
        "    plays_data['game_date'] =  pd.to_datetime(plays_data['game_date'])\n",
        "\n",
        "    i = 0\n",
        "    for row in nfl_scores[nfl_scores[\"schedule_season\"] == int(year)].to_numpy():\n",
        "        team_home = names[row[5]]\n",
        "        team_away = names[row[8]]\n",
        "        plays = plays_data[(plays_data[\"game_date\"].dt.strftime('%#m/%#d/%Y') == row[1]) &\n",
        "                          (plays_data[\"home_team\"] == team_home)]\n",
        "\n",
        "        # Touchdowns\n",
        "        td_home[i] = len(plays[(plays[\"touchdown\"] == 1) & (plays[\"posteam\"] == team_home)])\n",
        "        td_away[i] = len(plays[(plays[\"touchdown\"] == 1) & (plays[\"posteam\"] == team_away)])\n",
        "        \n",
        "        # Punto extra\n",
        "        extra_home[i] = len(plays[(plays[\"extra_point_result\"] == \"good\") & (plays[\"posteam\"] == team_home)])\n",
        "        extra_away[i] = len(plays[(plays[\"extra_point_result\"] == \"good\") & (plays[\"posteam\"] == team_away)])\n",
        "\n",
        "        # Conversiones\n",
        "        conv_home[i] = len(plays[(plays[\"two_point_conv_result\"] == \"success\") & (plays[\"posteam\"] == team_home)])\n",
        "        conv_away[i] = len(plays[(plays[\"two_point_conv_result\"] == \"success\") & (plays[\"posteam\"] == team_away)])\n",
        "\n",
        "        # Goles de campo\n",
        "        goal_home[i] = len(plays[(plays[\"field_goal_result\"] == \"made\") & (plays[\"posteam\"] == team_home)])\n",
        "        goal_away[i] = len(plays[(plays[\"field_goal_result\"] == \"made\") & (plays[\"posteam\"] == team_away)])\n",
        "        \n",
        "        # Safety\n",
        "        safety_home[i] = len(plays[(plays[\"safety\"] == 1) & (plays[\"posteam\"] == team_away)])\n",
        "        safety_away[i] = len(plays[(plays[\"safety\"] == 1) & (plays[\"posteam\"] == team_home)])\n",
        "        \n",
        "        # Penalizaciones\n",
        "        penalized_home[i] = len(plays[(plays[\"penalty_team\"] == team_home) & (plays[\"penalty\"] == 1)])\n",
        "        penalized_away[i] = len(plays[(plays[\"penalty_team\"] == team_away) & (plays[\"penalty\"] == 1)])\n",
        "\n",
        "        # Tiempo Extra\n",
        "        overtime[i] = int(plays[\"qtr\"].max() == 5)\n",
        "\n",
        "        # Número de series\n",
        "        drives[i] = plays[\"drive\"].max()\n",
        "\n",
        "        last_rows = plays.drop_duplicates(\n",
        "            subset = [\"drive\"])\n",
        "        \n",
        "        drives_home = last_rows[(last_rows[\"posteam\"] == team_home) & (last_rows[\"drive_play_count\"] > 0)]\n",
        "        drives_away = last_rows[(last_rows[\"posteam\"] == team_away) & (last_rows[\"drive_play_count\"] > 0)]\n",
        "\n",
        "        if len(drives_home) != 0 or len(drives_away) != 0:\n",
        "            # Probabilidad de que se convierta en primero y 10\n",
        "            effdown_home[i] = drives_home[\"drive_first_downs\"].sum() / drives_home[\"drive_play_count\"].sum()\n",
        "            effdown_away[i] = drives_away[\"drive_first_downs\"].sum() / drives_away[\"drive_play_count\"].sum()\n",
        "\n",
        "            # Porcentaje de posesión\n",
        "            sec_home = sum_minsec(drives_home[\"drive_time_of_possession\"].values)\n",
        "            sec_away = sum_minsec(drives_away[\"drive_time_of_possession\"].values)\n",
        "            \n",
        "            timepos_home[i] = sec_home/(sec_home + sec_away)\n",
        "            timepos_away[i] = sec_away/(sec_home + sec_away)\n",
        "\n",
        "            # Promedio de yardas avanzadas por jugada\n",
        "            avgyd_home[i] = np.nanmean(drives_home[\"ydsnet\"].values / drives_home[\"drive_play_count\"].values)\n",
        "            avgyd_away[i] = np.nanmean(drives_away[\"ydsnet\"].values / drives_away[\"drive_play_count\"].values)\n",
        "\n",
        "\n",
        "        if i % 100 == 0:\n",
        "            print(i, i/n_games, '%')\n",
        "        i += 1"
      ],
      "metadata": {
        "colab": {
          "base_uri": "https://localhost:8080/"
        },
        "id": "R9ZKkO_TnUqI",
        "outputId": "323d84f6-6cc1-4953-9b11-00c076dad962"
      },
      "execution_count": 27,
      "outputs": [
        {
          "output_type": "stream",
          "name": "stdout",
          "text": [
            "0 0.0 %\n"
          ]
        },
        {
          "output_type": "stream",
          "name": "stderr",
          "text": [
            "<ipython-input-27-498d0fab26f2>:59: RuntimeWarning: invalid value encountered in long_scalars\n",
            "  effdown_away[i] = drives_away[\"drive_first_downs\"].sum() / drives_away[\"drive_play_count\"].sum()\n",
            "<ipython-input-27-498d0fab26f2>:70: RuntimeWarning: Mean of empty slice\n",
            "  avgyd_away[i] = np.nanmean(drives_away[\"ydsnet\"].values / drives_away[\"drive_play_count\"].values)\n"
          ]
        },
        {
          "output_type": "stream",
          "name": "stdout",
          "text": [
            "100 0.01557389814670612 %\n",
            "200 0.03114779629341224 %\n",
            "0 0.0 %\n"
          ]
        },
        {
          "output_type": "stream",
          "name": "stderr",
          "text": [
            "<ipython-input-27-498d0fab26f2>:59: RuntimeWarning: invalid value encountered in long_scalars\n",
            "  effdown_away[i] = drives_away[\"drive_first_downs\"].sum() / drives_away[\"drive_play_count\"].sum()\n",
            "<ipython-input-27-498d0fab26f2>:70: RuntimeWarning: Mean of empty slice\n",
            "  avgyd_away[i] = np.nanmean(drives_away[\"ydsnet\"].values / drives_away[\"drive_play_count\"].values)\n"
          ]
        },
        {
          "output_type": "stream",
          "name": "stdout",
          "text": [
            "100 0.01557389814670612 %\n",
            "200 0.03114779629341224 %\n",
            "0 0.0 %\n"
          ]
        },
        {
          "output_type": "stream",
          "name": "stderr",
          "text": [
            "<ipython-input-27-498d0fab26f2>:59: RuntimeWarning: invalid value encountered in double_scalars\n",
            "  effdown_away[i] = drives_away[\"drive_first_downs\"].sum() / drives_away[\"drive_play_count\"].sum()\n",
            "<ipython-input-27-498d0fab26f2>:70: RuntimeWarning: Mean of empty slice\n",
            "  avgyd_away[i] = np.nanmean(drives_away[\"ydsnet\"].values / drives_away[\"drive_play_count\"].values)\n"
          ]
        },
        {
          "output_type": "stream",
          "name": "stdout",
          "text": [
            "100 0.01557389814670612 %\n",
            "200 0.03114779629341224 %\n",
            "0 0.0 %\n",
            "100 0.01557389814670612 %\n"
          ]
        },
        {
          "output_type": "stream",
          "name": "stderr",
          "text": [
            "<ipython-input-27-498d0fab26f2>:59: RuntimeWarning: invalid value encountered in double_scalars\n",
            "  effdown_away[i] = drives_away[\"drive_first_downs\"].sum() / drives_away[\"drive_play_count\"].sum()\n",
            "<ipython-input-27-498d0fab26f2>:70: RuntimeWarning: Mean of empty slice\n",
            "  avgyd_away[i] = np.nanmean(drives_away[\"ydsnet\"].values / drives_away[\"drive_play_count\"].values)\n"
          ]
        },
        {
          "output_type": "stream",
          "name": "stdout",
          "text": [
            "200 0.03114779629341224 %\n",
            "0 0.0 %\n"
          ]
        },
        {
          "output_type": "stream",
          "name": "stderr",
          "text": [
            "<ipython-input-27-498d0fab26f2>:59: RuntimeWarning: invalid value encountered in double_scalars\n",
            "  effdown_away[i] = drives_away[\"drive_first_downs\"].sum() / drives_away[\"drive_play_count\"].sum()\n",
            "<ipython-input-27-498d0fab26f2>:70: RuntimeWarning: Mean of empty slice\n",
            "  avgyd_away[i] = np.nanmean(drives_away[\"ydsnet\"].values / drives_away[\"drive_play_count\"].values)\n"
          ]
        },
        {
          "output_type": "stream",
          "name": "stdout",
          "text": [
            "100 0.01557389814670612 %\n",
            "200 0.03114779629341224 %\n",
            "0 0.0 %\n"
          ]
        },
        {
          "output_type": "stream",
          "name": "stderr",
          "text": [
            "<ipython-input-27-498d0fab26f2>:59: RuntimeWarning: invalid value encountered in double_scalars\n",
            "  effdown_away[i] = drives_away[\"drive_first_downs\"].sum() / drives_away[\"drive_play_count\"].sum()\n",
            "<ipython-input-27-498d0fab26f2>:70: RuntimeWarning: Mean of empty slice\n",
            "  avgyd_away[i] = np.nanmean(drives_away[\"ydsnet\"].values / drives_away[\"drive_play_count\"].values)\n"
          ]
        },
        {
          "output_type": "stream",
          "name": "stdout",
          "text": [
            "100 0.01557389814670612 %\n",
            "200 0.03114779629341224 %\n",
            "0 0.0 %\n"
          ]
        },
        {
          "output_type": "stream",
          "name": "stderr",
          "text": [
            "<ipython-input-27-498d0fab26f2>:59: RuntimeWarning: invalid value encountered in double_scalars\n",
            "  effdown_away[i] = drives_away[\"drive_first_downs\"].sum() / drives_away[\"drive_play_count\"].sum()\n",
            "<ipython-input-27-498d0fab26f2>:70: RuntimeWarning: Mean of empty slice\n",
            "  avgyd_away[i] = np.nanmean(drives_away[\"ydsnet\"].values / drives_away[\"drive_play_count\"].values)\n"
          ]
        },
        {
          "output_type": "stream",
          "name": "stdout",
          "text": [
            "100 0.01557389814670612 %\n",
            "200 0.03114779629341224 %\n",
            "0 0.0 %\n"
          ]
        },
        {
          "output_type": "stream",
          "name": "stderr",
          "text": [
            "<ipython-input-27-498d0fab26f2>:59: RuntimeWarning: invalid value encountered in double_scalars\n",
            "  effdown_away[i] = drives_away[\"drive_first_downs\"].sum() / drives_away[\"drive_play_count\"].sum()\n",
            "<ipython-input-27-498d0fab26f2>:70: RuntimeWarning: Mean of empty slice\n",
            "  avgyd_away[i] = np.nanmean(drives_away[\"ydsnet\"].values / drives_away[\"drive_play_count\"].values)\n"
          ]
        },
        {
          "output_type": "stream",
          "name": "stdout",
          "text": [
            "100 0.01557389814670612 %\n",
            "200 0.03114779629341224 %\n",
            "0 0.0 %\n"
          ]
        },
        {
          "output_type": "stream",
          "name": "stderr",
          "text": [
            "<ipython-input-27-498d0fab26f2>:59: RuntimeWarning: invalid value encountered in double_scalars\n",
            "  effdown_away[i] = drives_away[\"drive_first_downs\"].sum() / drives_away[\"drive_play_count\"].sum()\n",
            "<ipython-input-27-498d0fab26f2>:70: RuntimeWarning: Mean of empty slice\n",
            "  avgyd_away[i] = np.nanmean(drives_away[\"ydsnet\"].values / drives_away[\"drive_play_count\"].values)\n"
          ]
        },
        {
          "output_type": "stream",
          "name": "stdout",
          "text": [
            "100 0.01557389814670612 %\n",
            "200 0.03114779629341224 %\n",
            "0 0.0 %\n"
          ]
        },
        {
          "output_type": "stream",
          "name": "stderr",
          "text": [
            "<ipython-input-27-498d0fab26f2>:59: RuntimeWarning: invalid value encountered in double_scalars\n",
            "  effdown_away[i] = drives_away[\"drive_first_downs\"].sum() / drives_away[\"drive_play_count\"].sum()\n",
            "<ipython-input-27-498d0fab26f2>:70: RuntimeWarning: Mean of empty slice\n",
            "  avgyd_away[i] = np.nanmean(drives_away[\"ydsnet\"].values / drives_away[\"drive_play_count\"].values)\n"
          ]
        },
        {
          "output_type": "stream",
          "name": "stdout",
          "text": [
            "100 0.01557389814670612 %\n",
            "200 0.03114779629341224 %\n",
            "0 0.0 %\n"
          ]
        },
        {
          "output_type": "stream",
          "name": "stderr",
          "text": [
            "<ipython-input-27-498d0fab26f2>:59: RuntimeWarning: invalid value encountered in double_scalars\n",
            "  effdown_away[i] = drives_away[\"drive_first_downs\"].sum() / drives_away[\"drive_play_count\"].sum()\n",
            "<ipython-input-27-498d0fab26f2>:70: RuntimeWarning: Mean of empty slice\n",
            "  avgyd_away[i] = np.nanmean(drives_away[\"ydsnet\"].values / drives_away[\"drive_play_count\"].values)\n"
          ]
        },
        {
          "output_type": "stream",
          "name": "stdout",
          "text": [
            "100 0.01557389814670612 %\n",
            "200 0.03114779629341224 %\n",
            "0 0.0 %\n"
          ]
        },
        {
          "output_type": "stream",
          "name": "stderr",
          "text": [
            "<ipython-input-27-498d0fab26f2>:59: RuntimeWarning: invalid value encountered in double_scalars\n",
            "  effdown_away[i] = drives_away[\"drive_first_downs\"].sum() / drives_away[\"drive_play_count\"].sum()\n",
            "<ipython-input-27-498d0fab26f2>:70: RuntimeWarning: Mean of empty slice\n",
            "  avgyd_away[i] = np.nanmean(drives_away[\"ydsnet\"].values / drives_away[\"drive_play_count\"].values)\n"
          ]
        },
        {
          "output_type": "stream",
          "name": "stdout",
          "text": [
            "100 0.01557389814670612 %\n",
            "200 0.03114779629341224 %\n",
            "0 0.0 %\n"
          ]
        },
        {
          "output_type": "stream",
          "name": "stderr",
          "text": [
            "<ipython-input-27-498d0fab26f2>:59: RuntimeWarning: invalid value encountered in double_scalars\n",
            "  effdown_away[i] = drives_away[\"drive_first_downs\"].sum() / drives_away[\"drive_play_count\"].sum()\n",
            "<ipython-input-27-498d0fab26f2>:70: RuntimeWarning: Mean of empty slice\n",
            "  avgyd_away[i] = np.nanmean(drives_away[\"ydsnet\"].values / drives_away[\"drive_play_count\"].values)\n"
          ]
        },
        {
          "output_type": "stream",
          "name": "stdout",
          "text": [
            "100 0.01557389814670612 %\n",
            "200 0.03114779629341224 %\n",
            "0 0.0 %\n"
          ]
        },
        {
          "output_type": "stream",
          "name": "stderr",
          "text": [
            "<ipython-input-27-498d0fab26f2>:59: RuntimeWarning: invalid value encountered in double_scalars\n",
            "  effdown_away[i] = drives_away[\"drive_first_downs\"].sum() / drives_away[\"drive_play_count\"].sum()\n",
            "<ipython-input-27-498d0fab26f2>:70: RuntimeWarning: Mean of empty slice\n",
            "  avgyd_away[i] = np.nanmean(drives_away[\"ydsnet\"].values / drives_away[\"drive_play_count\"].values)\n"
          ]
        },
        {
          "output_type": "stream",
          "name": "stdout",
          "text": [
            "100 0.01557389814670612 %\n",
            "200 0.03114779629341224 %\n",
            "0 0.0 %\n"
          ]
        },
        {
          "output_type": "stream",
          "name": "stderr",
          "text": [
            "<ipython-input-27-498d0fab26f2>:59: RuntimeWarning: invalid value encountered in double_scalars\n",
            "  effdown_away[i] = drives_away[\"drive_first_downs\"].sum() / drives_away[\"drive_play_count\"].sum()\n",
            "<ipython-input-27-498d0fab26f2>:70: RuntimeWarning: Mean of empty slice\n",
            "  avgyd_away[i] = np.nanmean(drives_away[\"ydsnet\"].values / drives_away[\"drive_play_count\"].values)\n"
          ]
        },
        {
          "output_type": "stream",
          "name": "stdout",
          "text": [
            "100 0.01557389814670612 %\n",
            "200 0.03114779629341224 %\n",
            "0 0.0 %\n",
            "100 0.01557389814670612 %\n"
          ]
        },
        {
          "output_type": "stream",
          "name": "stderr",
          "text": [
            "<ipython-input-27-498d0fab26f2>:59: RuntimeWarning: invalid value encountered in double_scalars\n",
            "  effdown_away[i] = drives_away[\"drive_first_downs\"].sum() / drives_away[\"drive_play_count\"].sum()\n",
            "<ipython-input-27-498d0fab26f2>:70: RuntimeWarning: Mean of empty slice\n",
            "  avgyd_away[i] = np.nanmean(drives_away[\"ydsnet\"].values / drives_away[\"drive_play_count\"].values)\n"
          ]
        },
        {
          "output_type": "stream",
          "name": "stdout",
          "text": [
            "200 0.03114779629341224 %\n",
            "0 0.0 %\n"
          ]
        },
        {
          "output_type": "stream",
          "name": "stderr",
          "text": [
            "<ipython-input-27-498d0fab26f2>:59: RuntimeWarning: invalid value encountered in double_scalars\n",
            "  effdown_away[i] = drives_away[\"drive_first_downs\"].sum() / drives_away[\"drive_play_count\"].sum()\n",
            "<ipython-input-27-498d0fab26f2>:70: RuntimeWarning: Mean of empty slice\n",
            "  avgyd_away[i] = np.nanmean(drives_away[\"ydsnet\"].values / drives_away[\"drive_play_count\"].values)\n"
          ]
        },
        {
          "output_type": "stream",
          "name": "stdout",
          "text": [
            "100 0.01557389814670612 %\n",
            "200 0.03114779629341224 %\n",
            "0 0.0 %\n"
          ]
        },
        {
          "output_type": "stream",
          "name": "stderr",
          "text": [
            "<ipython-input-27-498d0fab26f2>:59: RuntimeWarning: invalid value encountered in double_scalars\n",
            "  effdown_away[i] = drives_away[\"drive_first_downs\"].sum() / drives_away[\"drive_play_count\"].sum()\n",
            "<ipython-input-27-498d0fab26f2>:70: RuntimeWarning: Mean of empty slice\n",
            "  avgyd_away[i] = np.nanmean(drives_away[\"ydsnet\"].values / drives_away[\"drive_play_count\"].values)\n"
          ]
        },
        {
          "output_type": "stream",
          "name": "stdout",
          "text": [
            "100 0.01557389814670612 %\n",
            "200 0.03114779629341224 %\n",
            "0 0.0 %\n"
          ]
        },
        {
          "output_type": "stream",
          "name": "stderr",
          "text": [
            "<ipython-input-27-498d0fab26f2>:59: RuntimeWarning: invalid value encountered in double_scalars\n",
            "  effdown_away[i] = drives_away[\"drive_first_downs\"].sum() / drives_away[\"drive_play_count\"].sum()\n",
            "<ipython-input-27-498d0fab26f2>:70: RuntimeWarning: Mean of empty slice\n",
            "  avgyd_away[i] = np.nanmean(drives_away[\"ydsnet\"].values / drives_away[\"drive_play_count\"].values)\n"
          ]
        },
        {
          "output_type": "stream",
          "name": "stdout",
          "text": [
            "100 0.01557389814670612 %\n",
            "200 0.03114779629341224 %\n",
            "0 0.0 %\n"
          ]
        },
        {
          "output_type": "stream",
          "name": "stderr",
          "text": [
            "<ipython-input-27-498d0fab26f2>:59: RuntimeWarning: invalid value encountered in double_scalars\n",
            "  effdown_away[i] = drives_away[\"drive_first_downs\"].sum() / drives_away[\"drive_play_count\"].sum()\n",
            "<ipython-input-27-498d0fab26f2>:70: RuntimeWarning: Mean of empty slice\n",
            "  avgyd_away[i] = np.nanmean(drives_away[\"ydsnet\"].values / drives_away[\"drive_play_count\"].values)\n"
          ]
        },
        {
          "output_type": "stream",
          "name": "stdout",
          "text": [
            "100 0.01557389814670612 %\n",
            "200 0.03114779629341224 %\n",
            "0 0.0 %\n"
          ]
        },
        {
          "output_type": "stream",
          "name": "stderr",
          "text": [
            "<ipython-input-27-498d0fab26f2>:59: RuntimeWarning: invalid value encountered in double_scalars\n",
            "  effdown_away[i] = drives_away[\"drive_first_downs\"].sum() / drives_away[\"drive_play_count\"].sum()\n",
            "<ipython-input-27-498d0fab26f2>:70: RuntimeWarning: Mean of empty slice\n",
            "  avgyd_away[i] = np.nanmean(drives_away[\"ydsnet\"].values / drives_away[\"drive_play_count\"].values)\n"
          ]
        },
        {
          "output_type": "stream",
          "name": "stdout",
          "text": [
            "100 0.01557389814670612 %\n",
            "200 0.03114779629341224 %\n",
            "0 0.0 %\n"
          ]
        },
        {
          "output_type": "stream",
          "name": "stderr",
          "text": [
            "<ipython-input-27-498d0fab26f2>:59: RuntimeWarning: invalid value encountered in double_scalars\n",
            "  effdown_away[i] = drives_away[\"drive_first_downs\"].sum() / drives_away[\"drive_play_count\"].sum()\n",
            "<ipython-input-27-498d0fab26f2>:70: RuntimeWarning: Mean of empty slice\n",
            "  avgyd_away[i] = np.nanmean(drives_away[\"ydsnet\"].values / drives_away[\"drive_play_count\"].values)\n"
          ]
        },
        {
          "output_type": "stream",
          "name": "stdout",
          "text": [
            "100 0.01557389814670612 %\n",
            "200 0.03114779629341224 %\n",
            "0 0.0 %\n"
          ]
        },
        {
          "output_type": "stream",
          "name": "stderr",
          "text": [
            "<ipython-input-27-498d0fab26f2>:59: RuntimeWarning: invalid value encountered in double_scalars\n",
            "  effdown_away[i] = drives_away[\"drive_first_downs\"].sum() / drives_away[\"drive_play_count\"].sum()\n",
            "<ipython-input-27-498d0fab26f2>:70: RuntimeWarning: Mean of empty slice\n",
            "  avgyd_away[i] = np.nanmean(drives_away[\"ydsnet\"].values / drives_away[\"drive_play_count\"].values)\n"
          ]
        },
        {
          "output_type": "stream",
          "name": "stdout",
          "text": [
            "100 0.01557389814670612 %\n",
            "200 0.03114779629341224 %\n",
            "0 0.0 %\n"
          ]
        },
        {
          "output_type": "stream",
          "name": "stderr",
          "text": [
            "<ipython-input-27-498d0fab26f2>:59: RuntimeWarning: invalid value encountered in double_scalars\n",
            "  effdown_away[i] = drives_away[\"drive_first_downs\"].sum() / drives_away[\"drive_play_count\"].sum()\n",
            "<ipython-input-27-498d0fab26f2>:70: RuntimeWarning: Mean of empty slice\n",
            "  avgyd_away[i] = np.nanmean(drives_away[\"ydsnet\"].values / drives_away[\"drive_play_count\"].values)\n"
          ]
        },
        {
          "output_type": "stream",
          "name": "stdout",
          "text": [
            "100 0.01557389814670612 %\n",
            "200 0.03114779629341224 %\n"
          ]
        }
      ]
    },
    {
      "cell_type": "code",
      "source": [
        "columns = [\"td_home\",\"td_away\",\"extra_home\",\"extra_away\",\"conv_home\",\"conv_away\",\n",
        "           \"goal_home\",\"goal_away\",\"safety_home\",\"safety_away\",\"avgyd_home\",\n",
        "           \"avgyd_away\",\"effdown_home\",\"effdown_away\",\"penalized_home\",\"penalized_away\",\n",
        "           \"timepos_home\",\"timepos_away\",\"drives\",\"overtime\"]\n",
        "new_data = np.matrix([\n",
        "    td_home, td_away, extra_home, extra_away, conv_home, conv_away, goal_home, \n",
        "    goal_away, safety_home, safety_away, avgyd_home, avgyd_away, effdown_home, \n",
        "    effdown_away, penalized_home, penalized_away, timepos_home, timepos_away, \n",
        "    drives , overtime \n",
        "]).T\n",
        "nfl_scores_new = nfl_scores.values\n",
        "new_data = np.hstack((nfl_scores_new, new_data))\n",
        "\n",
        "new_data_nfl = pd.DataFrame(new_data, columns= (nfl_scores.columns.to_list()+columns))\n",
        "new_data_nfl"
      ],
      "metadata": {
        "colab": {
          "base_uri": "https://localhost:8080/",
          "height": 696
        },
        "id": "w6B6j19HpjL8",
        "outputId": "fb7fef89-465e-417b-f175-b2746354c747"
      },
      "execution_count": 28,
      "outputs": [
        {
          "output_type": "execute_result",
          "data": {
            "text/plain": [
              "      index schedule_date schedule_season schedule_week schedule_playoff  \\\n",
              "0      7095     9/12/1999            1999             1            False   \n",
              "1      7096     9/12/1999            1999             1            False   \n",
              "2      7097     9/12/1999            1999             1            False   \n",
              "3      7098     9/12/1999            1999             1            False   \n",
              "4      7099     9/12/1999            1999             1            False   \n",
              "...     ...           ...             ...           ...              ...   \n",
              "6416  13511     1/22/2023            2022      Division             True   \n",
              "6417  13512     1/22/2023            2022      Division             True   \n",
              "6418  13513     1/29/2023            2022    Conference             True   \n",
              "6419  13514     1/29/2023            2022    Conference             True   \n",
              "6420  13515     2/12/2023            2022     Superbowl             True   \n",
              "\n",
              "                team_home score_home score_away            team_away  \\\n",
              "0         Atlanta Falcons         14         17    Minnesota Vikings   \n",
              "1           Chicago Bears         20         17   Kansas City Chiefs   \n",
              "2        Cleveland Browns          0         43  Pittsburgh Steelers   \n",
              "3       Green Bay Packers         28         24      Oakland Raiders   \n",
              "4      Indianapolis Colts         31         14        Buffalo Bills   \n",
              "...                   ...        ...        ...                  ...   \n",
              "6416        Buffalo Bills         10         27   Cincinnati Bengals   \n",
              "6417  San Francisco 49ers         19         12       Dallas Cowboys   \n",
              "6418   Kansas City Chiefs         23         20   Cincinnati Bengals   \n",
              "6419  Philadelphia Eagles         31          7  San Francisco 49ers   \n",
              "6420  Philadelphia Eagles         35         38   Kansas City Chiefs   \n",
              "\n",
              "     team_favorite_id  ... avgyd_home avgyd_away effdown_home effdown_away  \\\n",
              "0                 MIN  ...        0.0        0.0          0.0          0.0   \n",
              "1                  KC  ...        0.0        0.0          0.0          0.0   \n",
              "2                 PIT  ...        0.0        0.0          0.0          0.0   \n",
              "3                  GB  ...        0.0        0.0          0.0          0.0   \n",
              "4                 BUF  ...        0.0        0.0          0.0          0.0   \n",
              "...               ...  ...        ...        ...          ...          ...   \n",
              "6416              BUF  ...        0.0        0.0          0.0          0.0   \n",
              "6417               SF  ...        0.0        0.0          0.0          0.0   \n",
              "6418               KC  ...        0.0        0.0          0.0          0.0   \n",
              "6419              PHI  ...        0.0        0.0          0.0          0.0   \n",
              "6420              PHI  ...        0.0        0.0          0.0          0.0   \n",
              "\n",
              "     penalized_home penalized_away timepos_home timepos_away drives overtime  \n",
              "0               0.0            0.0          0.0          0.0    NaN      0.0  \n",
              "1               0.0            0.0          0.0          0.0    NaN      0.0  \n",
              "2               0.0            0.0          0.0          0.0    NaN      0.0  \n",
              "3               0.0            0.0          0.0          0.0    NaN      0.0  \n",
              "4               0.0            0.0          0.0          0.0    NaN      0.0  \n",
              "...             ...            ...          ...          ...    ...      ...  \n",
              "6416            0.0            0.0          0.0          0.0    0.0      0.0  \n",
              "6417            0.0            0.0          0.0          0.0    0.0      0.0  \n",
              "6418            0.0            0.0          0.0          0.0    0.0      0.0  \n",
              "6419            0.0            0.0          0.0          0.0    0.0      0.0  \n",
              "6420            0.0            0.0          0.0          0.0    0.0      0.0  \n",
              "\n",
              "[6421 rows x 38 columns]"
            ],
            "text/html": [
              "\n",
              "  <div id=\"df-b2a7619b-2b3a-4fb8-98bf-837e0201e4c4\">\n",
              "    <div class=\"colab-df-container\">\n",
              "      <div>\n",
              "<style scoped>\n",
              "    .dataframe tbody tr th:only-of-type {\n",
              "        vertical-align: middle;\n",
              "    }\n",
              "\n",
              "    .dataframe tbody tr th {\n",
              "        vertical-align: top;\n",
              "    }\n",
              "\n",
              "    .dataframe thead th {\n",
              "        text-align: right;\n",
              "    }\n",
              "</style>\n",
              "<table border=\"1\" class=\"dataframe\">\n",
              "  <thead>\n",
              "    <tr style=\"text-align: right;\">\n",
              "      <th></th>\n",
              "      <th>index</th>\n",
              "      <th>schedule_date</th>\n",
              "      <th>schedule_season</th>\n",
              "      <th>schedule_week</th>\n",
              "      <th>schedule_playoff</th>\n",
              "      <th>team_home</th>\n",
              "      <th>score_home</th>\n",
              "      <th>score_away</th>\n",
              "      <th>team_away</th>\n",
              "      <th>team_favorite_id</th>\n",
              "      <th>...</th>\n",
              "      <th>avgyd_home</th>\n",
              "      <th>avgyd_away</th>\n",
              "      <th>effdown_home</th>\n",
              "      <th>effdown_away</th>\n",
              "      <th>penalized_home</th>\n",
              "      <th>penalized_away</th>\n",
              "      <th>timepos_home</th>\n",
              "      <th>timepos_away</th>\n",
              "      <th>drives</th>\n",
              "      <th>overtime</th>\n",
              "    </tr>\n",
              "  </thead>\n",
              "  <tbody>\n",
              "    <tr>\n",
              "      <th>0</th>\n",
              "      <td>7095</td>\n",
              "      <td>9/12/1999</td>\n",
              "      <td>1999</td>\n",
              "      <td>1</td>\n",
              "      <td>False</td>\n",
              "      <td>Atlanta Falcons</td>\n",
              "      <td>14</td>\n",
              "      <td>17</td>\n",
              "      <td>Minnesota Vikings</td>\n",
              "      <td>MIN</td>\n",
              "      <td>...</td>\n",
              "      <td>0.0</td>\n",
              "      <td>0.0</td>\n",
              "      <td>0.0</td>\n",
              "      <td>0.0</td>\n",
              "      <td>0.0</td>\n",
              "      <td>0.0</td>\n",
              "      <td>0.0</td>\n",
              "      <td>0.0</td>\n",
              "      <td>NaN</td>\n",
              "      <td>0.0</td>\n",
              "    </tr>\n",
              "    <tr>\n",
              "      <th>1</th>\n",
              "      <td>7096</td>\n",
              "      <td>9/12/1999</td>\n",
              "      <td>1999</td>\n",
              "      <td>1</td>\n",
              "      <td>False</td>\n",
              "      <td>Chicago Bears</td>\n",
              "      <td>20</td>\n",
              "      <td>17</td>\n",
              "      <td>Kansas City Chiefs</td>\n",
              "      <td>KC</td>\n",
              "      <td>...</td>\n",
              "      <td>0.0</td>\n",
              "      <td>0.0</td>\n",
              "      <td>0.0</td>\n",
              "      <td>0.0</td>\n",
              "      <td>0.0</td>\n",
              "      <td>0.0</td>\n",
              "      <td>0.0</td>\n",
              "      <td>0.0</td>\n",
              "      <td>NaN</td>\n",
              "      <td>0.0</td>\n",
              "    </tr>\n",
              "    <tr>\n",
              "      <th>2</th>\n",
              "      <td>7097</td>\n",
              "      <td>9/12/1999</td>\n",
              "      <td>1999</td>\n",
              "      <td>1</td>\n",
              "      <td>False</td>\n",
              "      <td>Cleveland Browns</td>\n",
              "      <td>0</td>\n",
              "      <td>43</td>\n",
              "      <td>Pittsburgh Steelers</td>\n",
              "      <td>PIT</td>\n",
              "      <td>...</td>\n",
              "      <td>0.0</td>\n",
              "      <td>0.0</td>\n",
              "      <td>0.0</td>\n",
              "      <td>0.0</td>\n",
              "      <td>0.0</td>\n",
              "      <td>0.0</td>\n",
              "      <td>0.0</td>\n",
              "      <td>0.0</td>\n",
              "      <td>NaN</td>\n",
              "      <td>0.0</td>\n",
              "    </tr>\n",
              "    <tr>\n",
              "      <th>3</th>\n",
              "      <td>7098</td>\n",
              "      <td>9/12/1999</td>\n",
              "      <td>1999</td>\n",
              "      <td>1</td>\n",
              "      <td>False</td>\n",
              "      <td>Green Bay Packers</td>\n",
              "      <td>28</td>\n",
              "      <td>24</td>\n",
              "      <td>Oakland Raiders</td>\n",
              "      <td>GB</td>\n",
              "      <td>...</td>\n",
              "      <td>0.0</td>\n",
              "      <td>0.0</td>\n",
              "      <td>0.0</td>\n",
              "      <td>0.0</td>\n",
              "      <td>0.0</td>\n",
              "      <td>0.0</td>\n",
              "      <td>0.0</td>\n",
              "      <td>0.0</td>\n",
              "      <td>NaN</td>\n",
              "      <td>0.0</td>\n",
              "    </tr>\n",
              "    <tr>\n",
              "      <th>4</th>\n",
              "      <td>7099</td>\n",
              "      <td>9/12/1999</td>\n",
              "      <td>1999</td>\n",
              "      <td>1</td>\n",
              "      <td>False</td>\n",
              "      <td>Indianapolis Colts</td>\n",
              "      <td>31</td>\n",
              "      <td>14</td>\n",
              "      <td>Buffalo Bills</td>\n",
              "      <td>BUF</td>\n",
              "      <td>...</td>\n",
              "      <td>0.0</td>\n",
              "      <td>0.0</td>\n",
              "      <td>0.0</td>\n",
              "      <td>0.0</td>\n",
              "      <td>0.0</td>\n",
              "      <td>0.0</td>\n",
              "      <td>0.0</td>\n",
              "      <td>0.0</td>\n",
              "      <td>NaN</td>\n",
              "      <td>0.0</td>\n",
              "    </tr>\n",
              "    <tr>\n",
              "      <th>...</th>\n",
              "      <td>...</td>\n",
              "      <td>...</td>\n",
              "      <td>...</td>\n",
              "      <td>...</td>\n",
              "      <td>...</td>\n",
              "      <td>...</td>\n",
              "      <td>...</td>\n",
              "      <td>...</td>\n",
              "      <td>...</td>\n",
              "      <td>...</td>\n",
              "      <td>...</td>\n",
              "      <td>...</td>\n",
              "      <td>...</td>\n",
              "      <td>...</td>\n",
              "      <td>...</td>\n",
              "      <td>...</td>\n",
              "      <td>...</td>\n",
              "      <td>...</td>\n",
              "      <td>...</td>\n",
              "      <td>...</td>\n",
              "      <td>...</td>\n",
              "    </tr>\n",
              "    <tr>\n",
              "      <th>6416</th>\n",
              "      <td>13511</td>\n",
              "      <td>1/22/2023</td>\n",
              "      <td>2022</td>\n",
              "      <td>Division</td>\n",
              "      <td>True</td>\n",
              "      <td>Buffalo Bills</td>\n",
              "      <td>10</td>\n",
              "      <td>27</td>\n",
              "      <td>Cincinnati Bengals</td>\n",
              "      <td>BUF</td>\n",
              "      <td>...</td>\n",
              "      <td>0.0</td>\n",
              "      <td>0.0</td>\n",
              "      <td>0.0</td>\n",
              "      <td>0.0</td>\n",
              "      <td>0.0</td>\n",
              "      <td>0.0</td>\n",
              "      <td>0.0</td>\n",
              "      <td>0.0</td>\n",
              "      <td>0.0</td>\n",
              "      <td>0.0</td>\n",
              "    </tr>\n",
              "    <tr>\n",
              "      <th>6417</th>\n",
              "      <td>13512</td>\n",
              "      <td>1/22/2023</td>\n",
              "      <td>2022</td>\n",
              "      <td>Division</td>\n",
              "      <td>True</td>\n",
              "      <td>San Francisco 49ers</td>\n",
              "      <td>19</td>\n",
              "      <td>12</td>\n",
              "      <td>Dallas Cowboys</td>\n",
              "      <td>SF</td>\n",
              "      <td>...</td>\n",
              "      <td>0.0</td>\n",
              "      <td>0.0</td>\n",
              "      <td>0.0</td>\n",
              "      <td>0.0</td>\n",
              "      <td>0.0</td>\n",
              "      <td>0.0</td>\n",
              "      <td>0.0</td>\n",
              "      <td>0.0</td>\n",
              "      <td>0.0</td>\n",
              "      <td>0.0</td>\n",
              "    </tr>\n",
              "    <tr>\n",
              "      <th>6418</th>\n",
              "      <td>13513</td>\n",
              "      <td>1/29/2023</td>\n",
              "      <td>2022</td>\n",
              "      <td>Conference</td>\n",
              "      <td>True</td>\n",
              "      <td>Kansas City Chiefs</td>\n",
              "      <td>23</td>\n",
              "      <td>20</td>\n",
              "      <td>Cincinnati Bengals</td>\n",
              "      <td>KC</td>\n",
              "      <td>...</td>\n",
              "      <td>0.0</td>\n",
              "      <td>0.0</td>\n",
              "      <td>0.0</td>\n",
              "      <td>0.0</td>\n",
              "      <td>0.0</td>\n",
              "      <td>0.0</td>\n",
              "      <td>0.0</td>\n",
              "      <td>0.0</td>\n",
              "      <td>0.0</td>\n",
              "      <td>0.0</td>\n",
              "    </tr>\n",
              "    <tr>\n",
              "      <th>6419</th>\n",
              "      <td>13514</td>\n",
              "      <td>1/29/2023</td>\n",
              "      <td>2022</td>\n",
              "      <td>Conference</td>\n",
              "      <td>True</td>\n",
              "      <td>Philadelphia Eagles</td>\n",
              "      <td>31</td>\n",
              "      <td>7</td>\n",
              "      <td>San Francisco 49ers</td>\n",
              "      <td>PHI</td>\n",
              "      <td>...</td>\n",
              "      <td>0.0</td>\n",
              "      <td>0.0</td>\n",
              "      <td>0.0</td>\n",
              "      <td>0.0</td>\n",
              "      <td>0.0</td>\n",
              "      <td>0.0</td>\n",
              "      <td>0.0</td>\n",
              "      <td>0.0</td>\n",
              "      <td>0.0</td>\n",
              "      <td>0.0</td>\n",
              "    </tr>\n",
              "    <tr>\n",
              "      <th>6420</th>\n",
              "      <td>13515</td>\n",
              "      <td>2/12/2023</td>\n",
              "      <td>2022</td>\n",
              "      <td>Superbowl</td>\n",
              "      <td>True</td>\n",
              "      <td>Philadelphia Eagles</td>\n",
              "      <td>35</td>\n",
              "      <td>38</td>\n",
              "      <td>Kansas City Chiefs</td>\n",
              "      <td>PHI</td>\n",
              "      <td>...</td>\n",
              "      <td>0.0</td>\n",
              "      <td>0.0</td>\n",
              "      <td>0.0</td>\n",
              "      <td>0.0</td>\n",
              "      <td>0.0</td>\n",
              "      <td>0.0</td>\n",
              "      <td>0.0</td>\n",
              "      <td>0.0</td>\n",
              "      <td>0.0</td>\n",
              "      <td>0.0</td>\n",
              "    </tr>\n",
              "  </tbody>\n",
              "</table>\n",
              "<p>6421 rows × 38 columns</p>\n",
              "</div>\n",
              "      <button class=\"colab-df-convert\" onclick=\"convertToInteractive('df-b2a7619b-2b3a-4fb8-98bf-837e0201e4c4')\"\n",
              "              title=\"Convert this dataframe to an interactive table.\"\n",
              "              style=\"display:none;\">\n",
              "        \n",
              "  <svg xmlns=\"http://www.w3.org/2000/svg\" height=\"24px\"viewBox=\"0 0 24 24\"\n",
              "       width=\"24px\">\n",
              "    <path d=\"M0 0h24v24H0V0z\" fill=\"none\"/>\n",
              "    <path d=\"M18.56 5.44l.94 2.06.94-2.06 2.06-.94-2.06-.94-.94-2.06-.94 2.06-2.06.94zm-11 1L8.5 8.5l.94-2.06 2.06-.94-2.06-.94L8.5 2.5l-.94 2.06-2.06.94zm10 10l.94 2.06.94-2.06 2.06-.94-2.06-.94-.94-2.06-.94 2.06-2.06.94z\"/><path d=\"M17.41 7.96l-1.37-1.37c-.4-.4-.92-.59-1.43-.59-.52 0-1.04.2-1.43.59L10.3 9.45l-7.72 7.72c-.78.78-.78 2.05 0 2.83L4 21.41c.39.39.9.59 1.41.59.51 0 1.02-.2 1.41-.59l7.78-7.78 2.81-2.81c.8-.78.8-2.07 0-2.86zM5.41 20L4 18.59l7.72-7.72 1.47 1.35L5.41 20z\"/>\n",
              "  </svg>\n",
              "      </button>\n",
              "      \n",
              "  <style>\n",
              "    .colab-df-container {\n",
              "      display:flex;\n",
              "      flex-wrap:wrap;\n",
              "      gap: 12px;\n",
              "    }\n",
              "\n",
              "    .colab-df-convert {\n",
              "      background-color: #E8F0FE;\n",
              "      border: none;\n",
              "      border-radius: 50%;\n",
              "      cursor: pointer;\n",
              "      display: none;\n",
              "      fill: #1967D2;\n",
              "      height: 32px;\n",
              "      padding: 0 0 0 0;\n",
              "      width: 32px;\n",
              "    }\n",
              "\n",
              "    .colab-df-convert:hover {\n",
              "      background-color: #E2EBFA;\n",
              "      box-shadow: 0px 1px 2px rgba(60, 64, 67, 0.3), 0px 1px 3px 1px rgba(60, 64, 67, 0.15);\n",
              "      fill: #174EA6;\n",
              "    }\n",
              "\n",
              "    [theme=dark] .colab-df-convert {\n",
              "      background-color: #3B4455;\n",
              "      fill: #D2E3FC;\n",
              "    }\n",
              "\n",
              "    [theme=dark] .colab-df-convert:hover {\n",
              "      background-color: #434B5C;\n",
              "      box-shadow: 0px 1px 3px 1px rgba(0, 0, 0, 0.15);\n",
              "      filter: drop-shadow(0px 1px 2px rgba(0, 0, 0, 0.3));\n",
              "      fill: #FFFFFF;\n",
              "    }\n",
              "  </style>\n",
              "\n",
              "      <script>\n",
              "        const buttonEl =\n",
              "          document.querySelector('#df-b2a7619b-2b3a-4fb8-98bf-837e0201e4c4 button.colab-df-convert');\n",
              "        buttonEl.style.display =\n",
              "          google.colab.kernel.accessAllowed ? 'block' : 'none';\n",
              "\n",
              "        async function convertToInteractive(key) {\n",
              "          const element = document.querySelector('#df-b2a7619b-2b3a-4fb8-98bf-837e0201e4c4');\n",
              "          const dataTable =\n",
              "            await google.colab.kernel.invokeFunction('convertToInteractive',\n",
              "                                                     [key], {});\n",
              "          if (!dataTable) return;\n",
              "\n",
              "          const docLinkHtml = 'Like what you see? Visit the ' +\n",
              "            '<a target=\"_blank\" href=https://colab.research.google.com/notebooks/data_table.ipynb>data table notebook</a>'\n",
              "            + ' to learn more about interactive tables.';\n",
              "          element.innerHTML = '';\n",
              "          dataTable['output_type'] = 'display_data';\n",
              "          await google.colab.output.renderOutput(dataTable, element);\n",
              "          const docLink = document.createElement('div');\n",
              "          docLink.innerHTML = docLinkHtml;\n",
              "          element.appendChild(docLink);\n",
              "        }\n",
              "      </script>\n",
              "    </div>\n",
              "  </div>\n",
              "  "
            ]
          },
          "metadata": {},
          "execution_count": 28
        }
      ]
    },
    {
      "cell_type": "code",
      "source": [
        "new_data_nfl.to_csv(\"Datos/nfl_scores.csv\")"
      ],
      "metadata": {
        "id": "O3RfBNbUpko5"
      },
      "execution_count": 29,
      "outputs": []
    }
  ]
}