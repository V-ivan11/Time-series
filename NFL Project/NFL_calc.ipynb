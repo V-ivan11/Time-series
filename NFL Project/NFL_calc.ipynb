{
  "cells": [
    {
      "cell_type": "code",
      "execution_count": 1,
      "metadata": {
        "id": "KQ-Xf79rnJrg"
      },
      "outputs": [],
      "source": [
        "import pandas as pd\n",
        "import numpy as np\n",
        "import re"
      ]
    },
    {
      "cell_type": "code",
      "execution_count": 2,
      "metadata": {
        "colab": {
          "base_uri": "https://localhost:8080/",
          "height": 35
        },
        "id": "MGMyTQrJn1ik",
        "outputId": "cb1939d2-c8fb-41a2-9058-63f5ee76eca2"
      },
      "outputs": [
        {
          "data": {
            "text/plain": [
              "'JAX'"
            ]
          },
          "execution_count": 2,
          "metadata": {},
          "output_type": "execute_result"
        }
      ],
      "source": [
        "# Creamos diccionario de los equipos de la NFL\n",
        "nfl_teams = pd.read_csv('Datos/nfl_teams.csv')\n",
        "names = dict(zip(nfl_teams[\"team_name\"], nfl_teams[\"team_id\"]))\n",
        "\n",
        "# Prueba\n",
        "names[\"Jacksonville Jaguars\"]"
      ]
    },
    {
      "cell_type": "code",
      "execution_count": 3,
      "metadata": {
        "colab": {
          "base_uri": "https://localhost:8080/",
          "height": 357
        },
        "id": "U9hoVWx_oNS-",
        "outputId": "fa5efd61-6ab8-412f-f84b-a2e2fe758682"
      },
      "outputs": [
        {
          "data": {
            "text/html": [
              "<div>\n",
              "<style scoped>\n",
              "    .dataframe tbody tr th:only-of-type {\n",
              "        vertical-align: middle;\n",
              "    }\n",
              "\n",
              "    .dataframe tbody tr th {\n",
              "        vertical-align: top;\n",
              "    }\n",
              "\n",
              "    .dataframe thead th {\n",
              "        text-align: right;\n",
              "    }\n",
              "</style>\n",
              "<table border=\"1\" class=\"dataframe\">\n",
              "  <thead>\n",
              "    <tr style=\"text-align: right;\">\n",
              "      <th></th>\n",
              "      <th>index</th>\n",
              "      <th>schedule_date</th>\n",
              "      <th>schedule_season</th>\n",
              "      <th>schedule_week</th>\n",
              "      <th>schedule_playoff</th>\n",
              "      <th>team_home</th>\n",
              "      <th>score_home</th>\n",
              "      <th>score_away</th>\n",
              "      <th>team_away</th>\n",
              "      <th>team_favorite_id</th>\n",
              "      <th>spread_favorite</th>\n",
              "      <th>over_under_line</th>\n",
              "      <th>stadium</th>\n",
              "      <th>stadium_neutral</th>\n",
              "      <th>weather_temperature</th>\n",
              "      <th>weather_wind_mph</th>\n",
              "      <th>weather_humidity</th>\n",
              "      <th>weather_detail</th>\n",
              "    </tr>\n",
              "  </thead>\n",
              "  <tbody>\n",
              "    <tr>\n",
              "      <th>0</th>\n",
              "      <td>7095</td>\n",
              "      <td>9/12/1999</td>\n",
              "      <td>1999</td>\n",
              "      <td>1</td>\n",
              "      <td>False</td>\n",
              "      <td>Atlanta Falcons</td>\n",
              "      <td>14</td>\n",
              "      <td>17</td>\n",
              "      <td>Minnesota Vikings</td>\n",
              "      <td>MIN</td>\n",
              "      <td>-4.0</td>\n",
              "      <td>49</td>\n",
              "      <td>Georgia Dome</td>\n",
              "      <td>False</td>\n",
              "      <td>72.0</td>\n",
              "      <td>0.0</td>\n",
              "      <td>NaN</td>\n",
              "      <td>indoor</td>\n",
              "    </tr>\n",
              "    <tr>\n",
              "      <th>1</th>\n",
              "      <td>7096</td>\n",
              "      <td>9/12/1999</td>\n",
              "      <td>1999</td>\n",
              "      <td>1</td>\n",
              "      <td>False</td>\n",
              "      <td>Chicago Bears</td>\n",
              "      <td>20</td>\n",
              "      <td>17</td>\n",
              "      <td>Kansas City Chiefs</td>\n",
              "      <td>KC</td>\n",
              "      <td>-3.0</td>\n",
              "      <td>38</td>\n",
              "      <td>Soldier Field</td>\n",
              "      <td>False</td>\n",
              "      <td>68.0</td>\n",
              "      <td>10.0</td>\n",
              "      <td>69.0</td>\n",
              "      <td>NaN</td>\n",
              "    </tr>\n",
              "    <tr>\n",
              "      <th>2</th>\n",
              "      <td>7097</td>\n",
              "      <td>9/12/1999</td>\n",
              "      <td>1999</td>\n",
              "      <td>1</td>\n",
              "      <td>False</td>\n",
              "      <td>Cleveland Browns</td>\n",
              "      <td>0</td>\n",
              "      <td>43</td>\n",
              "      <td>Pittsburgh Steelers</td>\n",
              "      <td>PIT</td>\n",
              "      <td>-6.0</td>\n",
              "      <td>37</td>\n",
              "      <td>FirstEnergy Stadium</td>\n",
              "      <td>False</td>\n",
              "      <td>70.0</td>\n",
              "      <td>10.0</td>\n",
              "      <td>54.0</td>\n",
              "      <td>NaN</td>\n",
              "    </tr>\n",
              "    <tr>\n",
              "      <th>3</th>\n",
              "      <td>7098</td>\n",
              "      <td>9/12/1999</td>\n",
              "      <td>1999</td>\n",
              "      <td>1</td>\n",
              "      <td>False</td>\n",
              "      <td>Green Bay Packers</td>\n",
              "      <td>28</td>\n",
              "      <td>24</td>\n",
              "      <td>Oakland Raiders</td>\n",
              "      <td>GB</td>\n",
              "      <td>-9.0</td>\n",
              "      <td>43</td>\n",
              "      <td>Lambeau Field</td>\n",
              "      <td>False</td>\n",
              "      <td>61.0</td>\n",
              "      <td>9.0</td>\n",
              "      <td>84.0</td>\n",
              "      <td>NaN</td>\n",
              "    </tr>\n",
              "    <tr>\n",
              "      <th>4</th>\n",
              "      <td>7099</td>\n",
              "      <td>9/12/1999</td>\n",
              "      <td>1999</td>\n",
              "      <td>1</td>\n",
              "      <td>False</td>\n",
              "      <td>Indianapolis Colts</td>\n",
              "      <td>31</td>\n",
              "      <td>14</td>\n",
              "      <td>Buffalo Bills</td>\n",
              "      <td>BUF</td>\n",
              "      <td>-3.0</td>\n",
              "      <td>45.5</td>\n",
              "      <td>RCA Dome</td>\n",
              "      <td>False</td>\n",
              "      <td>72.0</td>\n",
              "      <td>0.0</td>\n",
              "      <td>NaN</td>\n",
              "      <td>indoor</td>\n",
              "    </tr>\n",
              "  </tbody>\n",
              "</table>\n",
              "</div>"
            ],
            "text/plain": [
              "   index schedule_date  schedule_season schedule_week  schedule_playoff  \\\n",
              "0   7095     9/12/1999             1999             1             False   \n",
              "1   7096     9/12/1999             1999             1             False   \n",
              "2   7097     9/12/1999             1999             1             False   \n",
              "3   7098     9/12/1999             1999             1             False   \n",
              "4   7099     9/12/1999             1999             1             False   \n",
              "\n",
              "            team_home  score_home  score_away            team_away  \\\n",
              "0     Atlanta Falcons          14          17    Minnesota Vikings   \n",
              "1       Chicago Bears          20          17   Kansas City Chiefs   \n",
              "2    Cleveland Browns           0          43  Pittsburgh Steelers   \n",
              "3   Green Bay Packers          28          24      Oakland Raiders   \n",
              "4  Indianapolis Colts          31          14        Buffalo Bills   \n",
              "\n",
              "  team_favorite_id  spread_favorite over_under_line              stadium  \\\n",
              "0              MIN             -4.0              49         Georgia Dome   \n",
              "1               KC             -3.0              38        Soldier Field   \n",
              "2              PIT             -6.0              37  FirstEnergy Stadium   \n",
              "3               GB             -9.0              43        Lambeau Field   \n",
              "4              BUF             -3.0            45.5             RCA Dome   \n",
              "\n",
              "   stadium_neutral  weather_temperature  weather_wind_mph  weather_humidity  \\\n",
              "0            False                 72.0               0.0               NaN   \n",
              "1            False                 68.0              10.0              69.0   \n",
              "2            False                 70.0              10.0              54.0   \n",
              "3            False                 61.0               9.0              84.0   \n",
              "4            False                 72.0               0.0               NaN   \n",
              "\n",
              "  weather_detail  \n",
              "0         indoor  \n",
              "1            NaN  \n",
              "2            NaN  \n",
              "3            NaN  \n",
              "4         indoor  "
            ]
          },
          "execution_count": 3,
          "metadata": {},
          "output_type": "execute_result"
        }
      ],
      "source": [
        "# Filtramos los datos por los años con mayor disponibilidad de los datos\n",
        "nfl_scores = pd.read_csv('Datos/spreadspoke_scores.csv', encoding='utf-8')\n",
        "nfl_scores = nfl_scores[nfl_scores[\"schedule_season\"] >= 1999]\n",
        "nfl_scores = nfl_scores.reset_index()\n",
        "nfl_scores.head()"
      ]
    },
    {
      "cell_type": "code",
      "execution_count": 4,
      "metadata": {
        "id": "ykCYhf4lojMc"
      },
      "outputs": [],
      "source": [
        "def sum_minsec(times):\n",
        "    total = 0\n",
        "    for time in times:\n",
        "        m, s = map(int, time.split(\":\"))\n",
        "        total += 60*m + s\n",
        "    return total"
      ]
    },
    {
      "cell_type": "code",
      "execution_count": 5,
      "metadata": {
        "colab": {
          "base_uri": "https://localhost:8080/"
        },
        "id": "R_B-KCNAodMf",
        "outputId": "f680c49c-f775-4a70-829f-fe29d04744fc"
      },
      "outputs": [
        {
          "name": "stdout",
          "output_type": "stream",
          "text": [
            "6421\n"
          ]
        }
      ],
      "source": [
        "# Número de partidos a completar los datos\n",
        "n_games = nfl_scores.shape[0]\n",
        "print(n_games)\n",
        "\n",
        "# Inicializamos arreglos para llenar datos\n",
        "td_home = np.zeros(n_games)\n",
        "td_away = np.zeros(n_games)\n",
        "extra_home = np.zeros(n_games)\n",
        "extra_away = np.zeros(n_games)\n",
        "conv_home = np.zeros(n_games)\n",
        "conv_away = np.zeros(n_games)\n",
        "goal_home = np.zeros(n_games)\n",
        "goal_away = np.zeros(n_games)\n",
        "safety_home = np.zeros(n_games)\n",
        "safety_away = np.zeros(n_games)\n",
        "avgyd_home = np.zeros(n_games)\n",
        "avgyd_away = np.zeros(n_games)\n",
        "effdown_home = np.zeros(n_games)\n",
        "effdown_away = np.zeros(n_games)\n",
        "penalized_home = np.zeros(n_games)\n",
        "penalized_away = np.zeros(n_games)\n",
        "timepos_home = np.zeros(n_games)\n",
        "timepos_away = np.zeros(n_games)\n",
        "drives =  np.zeros(n_games)\n",
        "overtime = np.zeros(n_games)"
      ]
    },
    {
      "cell_type": "code",
      "execution_count": 6,
      "metadata": {
        "id": "CsaWST3JnUFC"
      },
      "outputs": [],
      "source": [
        "pre_url = 'https://github.com/nflverse/nflverse-data/releases/download/pbp/play_by_play_'\n",
        "end_url = '.csv'\n",
        "urls = []\n",
        "\n",
        "for i in range(1999, 2023):\n",
        "    urls.append( pre_url + str(i) + end_url)"
      ]
    },
    {
      "cell_type": "code",
      "execution_count": 7,
      "metadata": {
        "colab": {
          "base_uri": "https://localhost:8080/"
        },
        "id": "R9ZKkO_TnUqI",
        "outputId": "323d84f6-6cc1-4953-9b11-00c076dad962"
      },
      "outputs": [
        {
          "name": "stdout",
          "output_type": "stream",
          "text": [
            "0 0.0 %\n"
          ]
        },
        {
          "name": "stderr",
          "output_type": "stream",
          "text": [
            "C:\\Users\\Iván\\AppData\\Local\\Temp\\ipykernel_20508\\3638693815.py:59: RuntimeWarning: invalid value encountered in longlong_scalars\n",
            "  effdown_away[i] = drives_away[\"drive_first_downs\"].sum() / drives_away[\"drive_play_count\"].sum()\n",
            "C:\\Users\\Iván\\AppData\\Local\\Temp\\ipykernel_20508\\3638693815.py:70: RuntimeWarning: Mean of empty slice\n",
            "  avgyd_away[i] = np.nanmean(drives_away[\"ydsnet\"].values / drives_away[\"drive_play_count\"].values)\n"
          ]
        },
        {
          "name": "stdout",
          "output_type": "stream",
          "text": [
            "100 0.01557389814670612 %\n",
            "200 0.03114779629341224 %\n"
          ]
        },
        {
          "name": "stderr",
          "output_type": "stream",
          "text": [
            "C:\\Users\\Iván\\AppData\\Local\\Temp\\ipykernel_20508\\3638693815.py:59: RuntimeWarning: invalid value encountered in longlong_scalars\n",
            "  effdown_away[i] = drives_away[\"drive_first_downs\"].sum() / drives_away[\"drive_play_count\"].sum()\n",
            "C:\\Users\\Iván\\AppData\\Local\\Temp\\ipykernel_20508\\3638693815.py:70: RuntimeWarning: Mean of empty slice\n",
            "  avgyd_away[i] = np.nanmean(drives_away[\"ydsnet\"].values / drives_away[\"drive_play_count\"].values)\n"
          ]
        },
        {
          "name": "stdout",
          "output_type": "stream",
          "text": [
            "300 0.04672169444011836 %\n",
            "400 0.06229559258682448 %\n",
            "500 0.0778694907335306 %\n"
          ]
        },
        {
          "name": "stderr",
          "output_type": "stream",
          "text": [
            "C:\\Users\\Iván\\AppData\\Local\\Temp\\ipykernel_20508\\3638693815.py:59: RuntimeWarning: invalid value encountered in double_scalars\n",
            "  effdown_away[i] = drives_away[\"drive_first_downs\"].sum() / drives_away[\"drive_play_count\"].sum()\n",
            "C:\\Users\\Iván\\AppData\\Local\\Temp\\ipykernel_20508\\3638693815.py:70: RuntimeWarning: Mean of empty slice\n",
            "  avgyd_away[i] = np.nanmean(drives_away[\"ydsnet\"].values / drives_away[\"drive_play_count\"].values)\n"
          ]
        },
        {
          "name": "stdout",
          "output_type": "stream",
          "text": [
            "600 0.09344338888023672 %\n",
            "700 0.10901728702694284 %\n"
          ]
        },
        {
          "name": "stderr",
          "output_type": "stream",
          "text": [
            "C:\\Users\\Iván\\AppData\\Local\\Temp\\ipykernel_20508\\3638693815.py:59: RuntimeWarning: invalid value encountered in double_scalars\n",
            "  effdown_away[i] = drives_away[\"drive_first_downs\"].sum() / drives_away[\"drive_play_count\"].sum()\n",
            "C:\\Users\\Iván\\AppData\\Local\\Temp\\ipykernel_20508\\3638693815.py:70: RuntimeWarning: Mean of empty slice\n",
            "  avgyd_away[i] = np.nanmean(drives_away[\"ydsnet\"].values / drives_away[\"drive_play_count\"].values)\n"
          ]
        },
        {
          "name": "stdout",
          "output_type": "stream",
          "text": [
            "800 0.12459118517364896 %\n",
            "900 0.14016508332035507 %\n",
            "1000 0.1557389814670612 %\n"
          ]
        },
        {
          "name": "stderr",
          "output_type": "stream",
          "text": [
            "C:\\Users\\Iván\\AppData\\Local\\Temp\\ipykernel_20508\\3638693815.py:59: RuntimeWarning: invalid value encountered in double_scalars\n",
            "  effdown_away[i] = drives_away[\"drive_first_downs\"].sum() / drives_away[\"drive_play_count\"].sum()\n",
            "C:\\Users\\Iván\\AppData\\Local\\Temp\\ipykernel_20508\\3638693815.py:70: RuntimeWarning: Mean of empty slice\n",
            "  avgyd_away[i] = np.nanmean(drives_away[\"ydsnet\"].values / drives_away[\"drive_play_count\"].values)\n"
          ]
        },
        {
          "name": "stdout",
          "output_type": "stream",
          "text": [
            "1100 0.17131287961376732 %\n",
            "1200 0.18688677776047344 %\n",
            "1300 0.20246067590717956 %\n"
          ]
        },
        {
          "name": "stderr",
          "output_type": "stream",
          "text": [
            "C:\\Users\\Iván\\AppData\\Local\\Temp\\ipykernel_20508\\3638693815.py:59: RuntimeWarning: invalid value encountered in double_scalars\n",
            "  effdown_away[i] = drives_away[\"drive_first_downs\"].sum() / drives_away[\"drive_play_count\"].sum()\n",
            "C:\\Users\\Iván\\AppData\\Local\\Temp\\ipykernel_20508\\3638693815.py:70: RuntimeWarning: Mean of empty slice\n",
            "  avgyd_away[i] = np.nanmean(drives_away[\"ydsnet\"].values / drives_away[\"drive_play_count\"].values)\n"
          ]
        },
        {
          "name": "stdout",
          "output_type": "stream",
          "text": [
            "1400 0.21803457405388568 %\n",
            "1500 0.2336084722005918 %\n"
          ]
        },
        {
          "name": "stderr",
          "output_type": "stream",
          "text": [
            "C:\\Users\\Iván\\AppData\\Local\\Temp\\ipykernel_20508\\3638693815.py:59: RuntimeWarning: invalid value encountered in double_scalars\n",
            "  effdown_away[i] = drives_away[\"drive_first_downs\"].sum() / drives_away[\"drive_play_count\"].sum()\n",
            "C:\\Users\\Iván\\AppData\\Local\\Temp\\ipykernel_20508\\3638693815.py:70: RuntimeWarning: Mean of empty slice\n",
            "  avgyd_away[i] = np.nanmean(drives_away[\"ydsnet\"].values / drives_away[\"drive_play_count\"].values)\n"
          ]
        },
        {
          "name": "stdout",
          "output_type": "stream",
          "text": [
            "1600 0.24918237034729793 %\n",
            "1700 0.2647562684940041 %\n",
            "1800 0.28033016664071014 %\n"
          ]
        },
        {
          "name": "stderr",
          "output_type": "stream",
          "text": [
            "C:\\Users\\Iván\\AppData\\Local\\Temp\\ipykernel_20508\\3638693815.py:59: RuntimeWarning: invalid value encountered in double_scalars\n",
            "  effdown_away[i] = drives_away[\"drive_first_downs\"].sum() / drives_away[\"drive_play_count\"].sum()\n",
            "C:\\Users\\Iván\\AppData\\Local\\Temp\\ipykernel_20508\\3638693815.py:70: RuntimeWarning: Mean of empty slice\n",
            "  avgyd_away[i] = np.nanmean(drives_away[\"ydsnet\"].values / drives_away[\"drive_play_count\"].values)\n"
          ]
        },
        {
          "name": "stdout",
          "output_type": "stream",
          "text": [
            "1900 0.29590406478741627 %\n",
            "2000 0.3114779629341224 %\n",
            "2100 0.3270518610808285 %\n"
          ]
        },
        {
          "name": "stderr",
          "output_type": "stream",
          "text": [
            "C:\\Users\\Iván\\AppData\\Local\\Temp\\ipykernel_20508\\3638693815.py:59: RuntimeWarning: invalid value encountered in double_scalars\n",
            "  effdown_away[i] = drives_away[\"drive_first_downs\"].sum() / drives_away[\"drive_play_count\"].sum()\n",
            "C:\\Users\\Iván\\AppData\\Local\\Temp\\ipykernel_20508\\3638693815.py:70: RuntimeWarning: Mean of empty slice\n",
            "  avgyd_away[i] = np.nanmean(drives_away[\"ydsnet\"].values / drives_away[\"drive_play_count\"].values)\n"
          ]
        },
        {
          "name": "stdout",
          "output_type": "stream",
          "text": [
            "2200 0.34262575922753463 %\n",
            "2300 0.35819965737424075 %\n"
          ]
        },
        {
          "name": "stderr",
          "output_type": "stream",
          "text": [
            "C:\\Users\\Iván\\AppData\\Local\\Temp\\ipykernel_20508\\3638693815.py:59: RuntimeWarning: invalid value encountered in double_scalars\n",
            "  effdown_away[i] = drives_away[\"drive_first_downs\"].sum() / drives_away[\"drive_play_count\"].sum()\n",
            "C:\\Users\\Iván\\AppData\\Local\\Temp\\ipykernel_20508\\3638693815.py:70: RuntimeWarning: Mean of empty slice\n",
            "  avgyd_away[i] = np.nanmean(drives_away[\"ydsnet\"].values / drives_away[\"drive_play_count\"].values)\n"
          ]
        },
        {
          "name": "stdout",
          "output_type": "stream",
          "text": [
            "2400 0.3737735555209469 %\n",
            "2500 0.389347453667653 %\n",
            "2600 0.4049213518143591 %\n"
          ]
        },
        {
          "name": "stderr",
          "output_type": "stream",
          "text": [
            "C:\\Users\\Iván\\AppData\\Local\\Temp\\ipykernel_20508\\3638693815.py:59: RuntimeWarning: invalid value encountered in double_scalars\n",
            "  effdown_away[i] = drives_away[\"drive_first_downs\"].sum() / drives_away[\"drive_play_count\"].sum()\n",
            "C:\\Users\\Iván\\AppData\\Local\\Temp\\ipykernel_20508\\3638693815.py:70: RuntimeWarning: Mean of empty slice\n",
            "  avgyd_away[i] = np.nanmean(drives_away[\"ydsnet\"].values / drives_away[\"drive_play_count\"].values)\n"
          ]
        },
        {
          "name": "stdout",
          "output_type": "stream",
          "text": [
            "2700 0.42049524996106524 %\n",
            "2800 0.43606914810777136 %\n",
            "2900 0.4516430462544775 %\n"
          ]
        },
        {
          "name": "stderr",
          "output_type": "stream",
          "text": [
            "C:\\Users\\Iván\\AppData\\Local\\Temp\\ipykernel_20508\\3638693815.py:59: RuntimeWarning: invalid value encountered in double_scalars\n",
            "  effdown_away[i] = drives_away[\"drive_first_downs\"].sum() / drives_away[\"drive_play_count\"].sum()\n",
            "C:\\Users\\Iván\\AppData\\Local\\Temp\\ipykernel_20508\\3638693815.py:70: RuntimeWarning: Mean of empty slice\n",
            "  avgyd_away[i] = np.nanmean(drives_away[\"ydsnet\"].values / drives_away[\"drive_play_count\"].values)\n"
          ]
        },
        {
          "name": "stdout",
          "output_type": "stream",
          "text": [
            "3000 0.4672169444011836 %\n",
            "3100 0.48279084254788973 %\n"
          ]
        },
        {
          "name": "stderr",
          "output_type": "stream",
          "text": [
            "C:\\Users\\Iván\\AppData\\Local\\Temp\\ipykernel_20508\\3638693815.py:59: RuntimeWarning: invalid value encountered in double_scalars\n",
            "  effdown_away[i] = drives_away[\"drive_first_downs\"].sum() / drives_away[\"drive_play_count\"].sum()\n",
            "C:\\Users\\Iván\\AppData\\Local\\Temp\\ipykernel_20508\\3638693815.py:70: RuntimeWarning: Mean of empty slice\n",
            "  avgyd_away[i] = np.nanmean(drives_away[\"ydsnet\"].values / drives_away[\"drive_play_count\"].values)\n"
          ]
        },
        {
          "name": "stdout",
          "output_type": "stream",
          "text": [
            "3200 0.49836474069459585 %\n",
            "3300 0.513938638841302 %\n",
            "3400 0.5295125369880082 %\n"
          ]
        },
        {
          "name": "stderr",
          "output_type": "stream",
          "text": [
            "C:\\Users\\Iván\\AppData\\Local\\Temp\\ipykernel_20508\\3638693815.py:59: RuntimeWarning: invalid value encountered in double_scalars\n",
            "  effdown_away[i] = drives_away[\"drive_first_downs\"].sum() / drives_away[\"drive_play_count\"].sum()\n",
            "C:\\Users\\Iván\\AppData\\Local\\Temp\\ipykernel_20508\\3638693815.py:70: RuntimeWarning: Mean of empty slice\n",
            "  avgyd_away[i] = np.nanmean(drives_away[\"ydsnet\"].values / drives_away[\"drive_play_count\"].values)\n"
          ]
        },
        {
          "name": "stdout",
          "output_type": "stream",
          "text": [
            "3500 0.5450864351347142 %\n",
            "3600 0.5606603332814203 %\n",
            "3700 0.5762342314281265 %\n"
          ]
        },
        {
          "name": "stderr",
          "output_type": "stream",
          "text": [
            "C:\\Users\\Iván\\AppData\\Local\\Temp\\ipykernel_20508\\3638693815.py:59: RuntimeWarning: invalid value encountered in double_scalars\n",
            "  effdown_away[i] = drives_away[\"drive_first_downs\"].sum() / drives_away[\"drive_play_count\"].sum()\n",
            "C:\\Users\\Iván\\AppData\\Local\\Temp\\ipykernel_20508\\3638693815.py:70: RuntimeWarning: Mean of empty slice\n",
            "  avgyd_away[i] = np.nanmean(drives_away[\"ydsnet\"].values / drives_away[\"drive_play_count\"].values)\n"
          ]
        },
        {
          "name": "stdout",
          "output_type": "stream",
          "text": [
            "3800 0.5918081295748325 %\n",
            "3900 0.6073820277215387 %\n"
          ]
        },
        {
          "name": "stderr",
          "output_type": "stream",
          "text": [
            "C:\\Users\\Iván\\AppData\\Local\\Temp\\ipykernel_20508\\3638693815.py:59: RuntimeWarning: invalid value encountered in double_scalars\n",
            "  effdown_away[i] = drives_away[\"drive_first_downs\"].sum() / drives_away[\"drive_play_count\"].sum()\n",
            "C:\\Users\\Iván\\AppData\\Local\\Temp\\ipykernel_20508\\3638693815.py:70: RuntimeWarning: Mean of empty slice\n",
            "  avgyd_away[i] = np.nanmean(drives_away[\"ydsnet\"].values / drives_away[\"drive_play_count\"].values)\n"
          ]
        },
        {
          "name": "stdout",
          "output_type": "stream",
          "text": [
            "4000 0.6229559258682448 %\n",
            "4100 0.638529824014951 %\n",
            "4200 0.654103722161657 %\n"
          ]
        },
        {
          "name": "stderr",
          "output_type": "stream",
          "text": [
            "C:\\Users\\Iván\\AppData\\Local\\Temp\\ipykernel_20508\\3638693815.py:59: RuntimeWarning: invalid value encountered in double_scalars\n",
            "  effdown_away[i] = drives_away[\"drive_first_downs\"].sum() / drives_away[\"drive_play_count\"].sum()\n",
            "C:\\Users\\Iván\\AppData\\Local\\Temp\\ipykernel_20508\\3638693815.py:70: RuntimeWarning: Mean of empty slice\n",
            "  avgyd_away[i] = np.nanmean(drives_away[\"ydsnet\"].values / drives_away[\"drive_play_count\"].values)\n"
          ]
        },
        {
          "name": "stdout",
          "output_type": "stream",
          "text": [
            "4300 0.6696776203083632 %\n",
            "4400 0.6852515184550693 %\n",
            "4500 0.7008254166017754 %\n"
          ]
        },
        {
          "name": "stderr",
          "output_type": "stream",
          "text": [
            "C:\\Users\\Iván\\AppData\\Local\\Temp\\ipykernel_20508\\3638693815.py:59: RuntimeWarning: invalid value encountered in double_scalars\n",
            "  effdown_away[i] = drives_away[\"drive_first_downs\"].sum() / drives_away[\"drive_play_count\"].sum()\n",
            "C:\\Users\\Iván\\AppData\\Local\\Temp\\ipykernel_20508\\3638693815.py:70: RuntimeWarning: Mean of empty slice\n",
            "  avgyd_away[i] = np.nanmean(drives_away[\"ydsnet\"].values / drives_away[\"drive_play_count\"].values)\n"
          ]
        },
        {
          "name": "stdout",
          "output_type": "stream",
          "text": [
            "4600 0.7163993147484815 %\n",
            "4700 0.7319732128951877 %\n"
          ]
        },
        {
          "name": "stderr",
          "output_type": "stream",
          "text": [
            "C:\\Users\\Iván\\AppData\\Local\\Temp\\ipykernel_20508\\3638693815.py:59: RuntimeWarning: invalid value encountered in double_scalars\n",
            "  effdown_away[i] = drives_away[\"drive_first_downs\"].sum() / drives_away[\"drive_play_count\"].sum()\n",
            "C:\\Users\\Iván\\AppData\\Local\\Temp\\ipykernel_20508\\3638693815.py:70: RuntimeWarning: Mean of empty slice\n",
            "  avgyd_away[i] = np.nanmean(drives_away[\"ydsnet\"].values / drives_away[\"drive_play_count\"].values)\n"
          ]
        },
        {
          "name": "stdout",
          "output_type": "stream",
          "text": [
            "4800 0.7475471110418938 %\n",
            "4900 0.7631210091885999 %\n",
            "5000 0.778694907335306 %\n"
          ]
        },
        {
          "name": "stderr",
          "output_type": "stream",
          "text": [
            "C:\\Users\\Iván\\AppData\\Local\\Temp\\ipykernel_20508\\3638693815.py:59: RuntimeWarning: invalid value encountered in double_scalars\n",
            "  effdown_away[i] = drives_away[\"drive_first_downs\"].sum() / drives_away[\"drive_play_count\"].sum()\n",
            "C:\\Users\\Iván\\AppData\\Local\\Temp\\ipykernel_20508\\3638693815.py:70: RuntimeWarning: Mean of empty slice\n",
            "  avgyd_away[i] = np.nanmean(drives_away[\"ydsnet\"].values / drives_away[\"drive_play_count\"].values)\n"
          ]
        },
        {
          "name": "stdout",
          "output_type": "stream",
          "text": [
            "5100 0.7942688054820122 %\n",
            "5200 0.8098427036287182 %\n",
            "5300 0.8254166017754244 %\n"
          ]
        },
        {
          "name": "stderr",
          "output_type": "stream",
          "text": [
            "C:\\Users\\Iván\\AppData\\Local\\Temp\\ipykernel_20508\\3638693815.py:59: RuntimeWarning: invalid value encountered in double_scalars\n",
            "  effdown_away[i] = drives_away[\"drive_first_downs\"].sum() / drives_away[\"drive_play_count\"].sum()\n",
            "C:\\Users\\Iván\\AppData\\Local\\Temp\\ipykernel_20508\\3638693815.py:70: RuntimeWarning: Mean of empty slice\n",
            "  avgyd_away[i] = np.nanmean(drives_away[\"ydsnet\"].values / drives_away[\"drive_play_count\"].values)\n"
          ]
        },
        {
          "name": "stdout",
          "output_type": "stream",
          "text": [
            "5400 0.8409904999221305 %\n",
            "5500 0.8565643980688367 %\n"
          ]
        },
        {
          "name": "stderr",
          "output_type": "stream",
          "text": [
            "C:\\Users\\Iván\\AppData\\Local\\Temp\\ipykernel_20508\\3638693815.py:59: RuntimeWarning: invalid value encountered in double_scalars\n",
            "  effdown_away[i] = drives_away[\"drive_first_downs\"].sum() / drives_away[\"drive_play_count\"].sum()\n",
            "C:\\Users\\Iván\\AppData\\Local\\Temp\\ipykernel_20508\\3638693815.py:70: RuntimeWarning: Mean of empty slice\n",
            "  avgyd_away[i] = np.nanmean(drives_away[\"ydsnet\"].values / drives_away[\"drive_play_count\"].values)\n"
          ]
        },
        {
          "name": "stdout",
          "output_type": "stream",
          "text": [
            "5600 0.8721382962155427 %\n",
            "5700 0.8877121943622489 %\n",
            "5800 0.903286092508955 %\n"
          ]
        },
        {
          "name": "stderr",
          "output_type": "stream",
          "text": [
            "C:\\Users\\Iván\\AppData\\Local\\Temp\\ipykernel_20508\\3638693815.py:59: RuntimeWarning: invalid value encountered in double_scalars\n",
            "  effdown_away[i] = drives_away[\"drive_first_downs\"].sum() / drives_away[\"drive_play_count\"].sum()\n",
            "C:\\Users\\Iván\\AppData\\Local\\Temp\\ipykernel_20508\\3638693815.py:70: RuntimeWarning: Mean of empty slice\n",
            "  avgyd_away[i] = np.nanmean(drives_away[\"ydsnet\"].values / drives_away[\"drive_play_count\"].values)\n"
          ]
        },
        {
          "name": "stdout",
          "output_type": "stream",
          "text": [
            "5900 0.9188599906556612 %\n",
            "6000 0.9344338888023672 %\n",
            "6100 0.9500077869490734 %\n"
          ]
        },
        {
          "name": "stderr",
          "output_type": "stream",
          "text": [
            "C:\\Users\\Iván\\AppData\\Local\\Temp\\ipykernel_20508\\3638693815.py:59: RuntimeWarning: invalid value encountered in double_scalars\n",
            "  effdown_away[i] = drives_away[\"drive_first_downs\"].sum() / drives_away[\"drive_play_count\"].sum()\n",
            "C:\\Users\\Iván\\AppData\\Local\\Temp\\ipykernel_20508\\3638693815.py:70: RuntimeWarning: Mean of empty slice\n",
            "  avgyd_away[i] = np.nanmean(drives_away[\"ydsnet\"].values / drives_away[\"drive_play_count\"].values)\n"
          ]
        },
        {
          "name": "stdout",
          "output_type": "stream",
          "text": [
            "6200 0.9655816850957795 %\n",
            "6300 0.9811555832424856 %\n",
            "6400 0.9967294813891917 %\n"
          ]
        }
      ],
      "source": [
        "i = 0\n",
        "for url in urls:\n",
        "    year = re.findall('[0-9]+', url)[0]\n",
        "    \n",
        "    plays_data = pd.read_csv(url, encoding='utf-8', low_memory=False)\n",
        "\n",
        "    # Obtenemos sólo las columnas que necesitamos\n",
        "    plays_data = plays_data[[\"game_date\", \"season\", \"home_team\", \"touchdown\", \"posteam\", \"extra_point_result\",\n",
        "     \"two_point_conv_result\", \"safety\", \"field_goal_result\", \"penalty_team\", \"penalty\",\n",
        "     \"drive\", \"drive_first_downs\", \"drive_play_count\", \"drive_time_of_possession\",\n",
        "     \"ydsnet\", \"qtr\"]]\n",
        "    plays_data['game_date'] =  pd.to_datetime(plays_data['game_date'])\n",
        "\n",
        "    for row in nfl_scores[nfl_scores[\"schedule_season\"] == int(year)].to_numpy():\n",
        "        team_home = names[row[5]]\n",
        "        team_away = names[row[8]]\n",
        "        plays = plays_data[(plays_data[\"game_date\"].dt.strftime('%#m/%#d/%Y') == row[1]) &\n",
        "                          (plays_data[\"home_team\"] == team_home)]\n",
        "\n",
        "        # Touchdowns\n",
        "        td_home[i] = len(plays[(plays[\"touchdown\"] == 1) & (plays[\"posteam\"] == team_home)])\n",
        "        td_away[i] = len(plays[(plays[\"touchdown\"] == 1) & (plays[\"posteam\"] == team_away)])\n",
        "        \n",
        "        # Punto extra\n",
        "        extra_home[i] = len(plays[(plays[\"extra_point_result\"] == \"good\") & (plays[\"posteam\"] == team_home)])\n",
        "        extra_away[i] = len(plays[(plays[\"extra_point_result\"] == \"good\") & (plays[\"posteam\"] == team_away)])\n",
        "\n",
        "        # Conversiones\n",
        "        conv_home[i] = len(plays[(plays[\"two_point_conv_result\"] == \"success\") & (plays[\"posteam\"] == team_home)])\n",
        "        conv_away[i] = len(plays[(plays[\"two_point_conv_result\"] == \"success\") & (plays[\"posteam\"] == team_away)])\n",
        "\n",
        "        # Goles de campo\n",
        "        goal_home[i] = len(plays[(plays[\"field_goal_result\"] == \"made\") & (plays[\"posteam\"] == team_home)])\n",
        "        goal_away[i] = len(plays[(plays[\"field_goal_result\"] == \"made\") & (plays[\"posteam\"] == team_away)])\n",
        "        \n",
        "        # Safety\n",
        "        safety_home[i] = len(plays[(plays[\"safety\"] == 1) & (plays[\"posteam\"] == team_away)])\n",
        "        safety_away[i] = len(plays[(plays[\"safety\"] == 1) & (plays[\"posteam\"] == team_home)])\n",
        "        \n",
        "        # Penalizaciones\n",
        "        penalized_home[i] = len(plays[(plays[\"penalty_team\"] == team_home) & (plays[\"penalty\"] == 1)])\n",
        "        penalized_away[i] = len(plays[(plays[\"penalty_team\"] == team_away) & (plays[\"penalty\"] == 1)])\n",
        "\n",
        "        # Tiempo Extra\n",
        "        overtime[i] = int(plays[\"qtr\"].max() == 5)\n",
        "\n",
        "        # Número de series\n",
        "        drives[i] = plays[\"drive\"].max()\n",
        "\n",
        "        last_rows = plays.drop_duplicates(\n",
        "            subset = [\"drive\"])\n",
        "        \n",
        "        drives_home = last_rows[(last_rows[\"posteam\"] == team_home) & (last_rows[\"drive_play_count\"] > 0)]\n",
        "        drives_away = last_rows[(last_rows[\"posteam\"] == team_away) & (last_rows[\"drive_play_count\"] > 0)]\n",
        "\n",
        "        if len(drives_home) != 0 or len(drives_away) != 0:\n",
        "            # Probabilidad de que se convierta en primero y 10\n",
        "            effdown_home[i] = drives_home[\"drive_first_downs\"].sum() / drives_home[\"drive_play_count\"].sum()\n",
        "            effdown_away[i] = drives_away[\"drive_first_downs\"].sum() / drives_away[\"drive_play_count\"].sum()\n",
        "\n",
        "            # Porcentaje de posesión\n",
        "            sec_home = sum_minsec(drives_home[\"drive_time_of_possession\"].values)\n",
        "            sec_away = sum_minsec(drives_away[\"drive_time_of_possession\"].values)\n",
        "            \n",
        "            timepos_home[i] = sec_home/(sec_home + sec_away)\n",
        "            timepos_away[i] = sec_away/(sec_home + sec_away)\n",
        "\n",
        "            # Promedio de yardas avanzadas por jugada\n",
        "            avgyd_home[i] = np.nanmean(drives_home[\"ydsnet\"].values / drives_home[\"drive_play_count\"].values)\n",
        "            avgyd_away[i] = np.nanmean(drives_away[\"ydsnet\"].values / drives_away[\"drive_play_count\"].values)\n",
        "\n",
        "\n",
        "        if i % 100 == 0:\n",
        "            print(i, i/n_games, '%')\n",
        "        i += 1"
      ]
    },
    {
      "cell_type": "code",
      "execution_count": 8,
      "metadata": {
        "colab": {
          "base_uri": "https://localhost:8080/",
          "height": 696
        },
        "id": "w6B6j19HpjL8",
        "outputId": "fb7fef89-465e-417b-f175-b2746354c747"
      },
      "outputs": [
        {
          "data": {
            "text/html": [
              "<div>\n",
              "<style scoped>\n",
              "    .dataframe tbody tr th:only-of-type {\n",
              "        vertical-align: middle;\n",
              "    }\n",
              "\n",
              "    .dataframe tbody tr th {\n",
              "        vertical-align: top;\n",
              "    }\n",
              "\n",
              "    .dataframe thead th {\n",
              "        text-align: right;\n",
              "    }\n",
              "</style>\n",
              "<table border=\"1\" class=\"dataframe\">\n",
              "  <thead>\n",
              "    <tr style=\"text-align: right;\">\n",
              "      <th></th>\n",
              "      <th>index</th>\n",
              "      <th>schedule_date</th>\n",
              "      <th>schedule_season</th>\n",
              "      <th>schedule_week</th>\n",
              "      <th>schedule_playoff</th>\n",
              "      <th>team_home</th>\n",
              "      <th>score_home</th>\n",
              "      <th>score_away</th>\n",
              "      <th>team_away</th>\n",
              "      <th>team_favorite_id</th>\n",
              "      <th>...</th>\n",
              "      <th>avgyd_home</th>\n",
              "      <th>avgyd_away</th>\n",
              "      <th>effdown_home</th>\n",
              "      <th>effdown_away</th>\n",
              "      <th>penalized_home</th>\n",
              "      <th>penalized_away</th>\n",
              "      <th>timepos_home</th>\n",
              "      <th>timepos_away</th>\n",
              "      <th>drives</th>\n",
              "      <th>overtime</th>\n",
              "    </tr>\n",
              "  </thead>\n",
              "  <tbody>\n",
              "    <tr>\n",
              "      <th>0</th>\n",
              "      <td>7095</td>\n",
              "      <td>9/12/1999</td>\n",
              "      <td>1999</td>\n",
              "      <td>1</td>\n",
              "      <td>False</td>\n",
              "      <td>Atlanta Falcons</td>\n",
              "      <td>14</td>\n",
              "      <td>17</td>\n",
              "      <td>Minnesota Vikings</td>\n",
              "      <td>MIN</td>\n",
              "      <td>...</td>\n",
              "      <td>9.396693</td>\n",
              "      <td>6.481902</td>\n",
              "      <td>0.37931</td>\n",
              "      <td>0.279412</td>\n",
              "      <td>4.0</td>\n",
              "      <td>9.0</td>\n",
              "      <td>0.450636</td>\n",
              "      <td>0.549364</td>\n",
              "      <td>20.0</td>\n",
              "      <td>0.0</td>\n",
              "    </tr>\n",
              "    <tr>\n",
              "      <th>1</th>\n",
              "      <td>7096</td>\n",
              "      <td>9/12/1999</td>\n",
              "      <td>1999</td>\n",
              "      <td>1</td>\n",
              "      <td>False</td>\n",
              "      <td>Chicago Bears</td>\n",
              "      <td>20</td>\n",
              "      <td>17</td>\n",
              "      <td>Kansas City Chiefs</td>\n",
              "      <td>KC</td>\n",
              "      <td>...</td>\n",
              "      <td>1.339015</td>\n",
              "      <td>2.119453</td>\n",
              "      <td>0.301887</td>\n",
              "      <td>0.268657</td>\n",
              "      <td>6.0</td>\n",
              "      <td>7.0</td>\n",
              "      <td>0.45683</td>\n",
              "      <td>0.54317</td>\n",
              "      <td>23.0</td>\n",
              "      <td>0.0</td>\n",
              "    </tr>\n",
              "    <tr>\n",
              "      <th>2</th>\n",
              "      <td>7097</td>\n",
              "      <td>9/12/1999</td>\n",
              "      <td>1999</td>\n",
              "      <td>1</td>\n",
              "      <td>False</td>\n",
              "      <td>Cleveland Browns</td>\n",
              "      <td>0</td>\n",
              "      <td>43</td>\n",
              "      <td>Pittsburgh Steelers</td>\n",
              "      <td>PIT</td>\n",
              "      <td>...</td>\n",
              "      <td>0.746667</td>\n",
              "      <td>5.567066</td>\n",
              "      <td>0.071429</td>\n",
              "      <td>0.365591</td>\n",
              "      <td>4.0</td>\n",
              "      <td>4.0</td>\n",
              "      <td>0.200167</td>\n",
              "      <td>0.799833</td>\n",
              "      <td>22.0</td>\n",
              "      <td>0.0</td>\n",
              "    </tr>\n",
              "    <tr>\n",
              "      <th>3</th>\n",
              "      <td>7098</td>\n",
              "      <td>9/12/1999</td>\n",
              "      <td>1999</td>\n",
              "      <td>1</td>\n",
              "      <td>False</td>\n",
              "      <td>Green Bay Packers</td>\n",
              "      <td>28</td>\n",
              "      <td>24</td>\n",
              "      <td>Oakland Raiders</td>\n",
              "      <td>GB</td>\n",
              "      <td>...</td>\n",
              "      <td>3.246723</td>\n",
              "      <td>NaN</td>\n",
              "      <td>0.357143</td>\n",
              "      <td>NaN</td>\n",
              "      <td>7.0</td>\n",
              "      <td>0.0</td>\n",
              "      <td>1.0</td>\n",
              "      <td>0.0</td>\n",
              "      <td>25.0</td>\n",
              "      <td>0.0</td>\n",
              "    </tr>\n",
              "    <tr>\n",
              "      <th>4</th>\n",
              "      <td>7099</td>\n",
              "      <td>9/12/1999</td>\n",
              "      <td>1999</td>\n",
              "      <td>1</td>\n",
              "      <td>False</td>\n",
              "      <td>Indianapolis Colts</td>\n",
              "      <td>31</td>\n",
              "      <td>14</td>\n",
              "      <td>Buffalo Bills</td>\n",
              "      <td>BUF</td>\n",
              "      <td>...</td>\n",
              "      <td>6.366402</td>\n",
              "      <td>3.13475</td>\n",
              "      <td>0.293103</td>\n",
              "      <td>0.283333</td>\n",
              "      <td>7.0</td>\n",
              "      <td>13.0</td>\n",
              "      <td>0.549321</td>\n",
              "      <td>0.450679</td>\n",
              "      <td>24.0</td>\n",
              "      <td>0.0</td>\n",
              "    </tr>\n",
              "    <tr>\n",
              "      <th>...</th>\n",
              "      <td>...</td>\n",
              "      <td>...</td>\n",
              "      <td>...</td>\n",
              "      <td>...</td>\n",
              "      <td>...</td>\n",
              "      <td>...</td>\n",
              "      <td>...</td>\n",
              "      <td>...</td>\n",
              "      <td>...</td>\n",
              "      <td>...</td>\n",
              "      <td>...</td>\n",
              "      <td>...</td>\n",
              "      <td>...</td>\n",
              "      <td>...</td>\n",
              "      <td>...</td>\n",
              "      <td>...</td>\n",
              "      <td>...</td>\n",
              "      <td>...</td>\n",
              "      <td>...</td>\n",
              "      <td>...</td>\n",
              "      <td>...</td>\n",
              "    </tr>\n",
              "    <tr>\n",
              "      <th>6416</th>\n",
              "      <td>13511</td>\n",
              "      <td>1/22/2023</td>\n",
              "      <td>2022</td>\n",
              "      <td>Division</td>\n",
              "      <td>True</td>\n",
              "      <td>Buffalo Bills</td>\n",
              "      <td>10</td>\n",
              "      <td>27</td>\n",
              "      <td>Cincinnati Bengals</td>\n",
              "      <td>BUF</td>\n",
              "      <td>...</td>\n",
              "      <td>4.259077</td>\n",
              "      <td>5.647663</td>\n",
              "      <td>0.285714</td>\n",
              "      <td>0.410959</td>\n",
              "      <td>8.0</td>\n",
              "      <td>2.0</td>\n",
              "      <td>0.435</td>\n",
              "      <td>0.565</td>\n",
              "      <td>17.0</td>\n",
              "      <td>0.0</td>\n",
              "    </tr>\n",
              "    <tr>\n",
              "      <th>6417</th>\n",
              "      <td>13512</td>\n",
              "      <td>1/22/2023</td>\n",
              "      <td>2022</td>\n",
              "      <td>Division</td>\n",
              "      <td>True</td>\n",
              "      <td>San Francisco 49ers</td>\n",
              "      <td>19</td>\n",
              "      <td>12</td>\n",
              "      <td>Dallas Cowboys</td>\n",
              "      <td>SF</td>\n",
              "      <td>...</td>\n",
              "      <td>4.140659</td>\n",
              "      <td>4.113333</td>\n",
              "      <td>0.313433</td>\n",
              "      <td>0.241935</td>\n",
              "      <td>3.0</td>\n",
              "      <td>7.0</td>\n",
              "      <td>0.548056</td>\n",
              "      <td>0.451944</td>\n",
              "      <td>19.0</td>\n",
              "      <td>0.0</td>\n",
              "    </tr>\n",
              "    <tr>\n",
              "      <th>6418</th>\n",
              "      <td>13513</td>\n",
              "      <td>1/29/2023</td>\n",
              "      <td>2022</td>\n",
              "      <td>Conference</td>\n",
              "      <td>True</td>\n",
              "      <td>Kansas City Chiefs</td>\n",
              "      <td>23</td>\n",
              "      <td>20</td>\n",
              "      <td>Cincinnati Bengals</td>\n",
              "      <td>KC</td>\n",
              "      <td>...</td>\n",
              "      <td>4.577976</td>\n",
              "      <td>3.080568</td>\n",
              "      <td>0.333333</td>\n",
              "      <td>0.276923</td>\n",
              "      <td>4.0</td>\n",
              "      <td>9.0</td>\n",
              "      <td>0.547957</td>\n",
              "      <td>0.452043</td>\n",
              "      <td>21.0</td>\n",
              "      <td>0.0</td>\n",
              "    </tr>\n",
              "    <tr>\n",
              "      <th>6419</th>\n",
              "      <td>13514</td>\n",
              "      <td>1/29/2023</td>\n",
              "      <td>2022</td>\n",
              "      <td>Conference</td>\n",
              "      <td>True</td>\n",
              "      <td>Philadelphia Eagles</td>\n",
              "      <td>31</td>\n",
              "      <td>7</td>\n",
              "      <td>San Francisco 49ers</td>\n",
              "      <td>PHI</td>\n",
              "      <td>...</td>\n",
              "      <td>3.717381</td>\n",
              "      <td>3.07</td>\n",
              "      <td>0.352113</td>\n",
              "      <td>0.244444</td>\n",
              "      <td>4.0</td>\n",
              "      <td>11.0</td>\n",
              "      <td>0.623889</td>\n",
              "      <td>0.376111</td>\n",
              "      <td>20.0</td>\n",
              "      <td>0.0</td>\n",
              "    </tr>\n",
              "    <tr>\n",
              "      <th>6420</th>\n",
              "      <td>13515</td>\n",
              "      <td>2/12/2023</td>\n",
              "      <td>2022</td>\n",
              "      <td>Superbowl</td>\n",
              "      <td>True</td>\n",
              "      <td>Philadelphia Eagles</td>\n",
              "      <td>35</td>\n",
              "      <td>38</td>\n",
              "      <td>Kansas City Chiefs</td>\n",
              "      <td>PHI</td>\n",
              "      <td>...</td>\n",
              "      <td>4.740593</td>\n",
              "      <td>5.495833</td>\n",
              "      <td>0.337838</td>\n",
              "      <td>0.381818</td>\n",
              "      <td>6.0</td>\n",
              "      <td>3.0</td>\n",
              "      <td>0.596389</td>\n",
              "      <td>0.403611</td>\n",
              "      <td>18.0</td>\n",
              "      <td>0.0</td>\n",
              "    </tr>\n",
              "  </tbody>\n",
              "</table>\n",
              "<p>6421 rows × 38 columns</p>\n",
              "</div>"
            ],
            "text/plain": [
              "      index schedule_date schedule_season schedule_week schedule_playoff  \\\n",
              "0      7095     9/12/1999            1999             1            False   \n",
              "1      7096     9/12/1999            1999             1            False   \n",
              "2      7097     9/12/1999            1999             1            False   \n",
              "3      7098     9/12/1999            1999             1            False   \n",
              "4      7099     9/12/1999            1999             1            False   \n",
              "...     ...           ...             ...           ...              ...   \n",
              "6416  13511     1/22/2023            2022      Division             True   \n",
              "6417  13512     1/22/2023            2022      Division             True   \n",
              "6418  13513     1/29/2023            2022    Conference             True   \n",
              "6419  13514     1/29/2023            2022    Conference             True   \n",
              "6420  13515     2/12/2023            2022     Superbowl             True   \n",
              "\n",
              "                team_home score_home score_away            team_away  \\\n",
              "0         Atlanta Falcons         14         17    Minnesota Vikings   \n",
              "1           Chicago Bears         20         17   Kansas City Chiefs   \n",
              "2        Cleveland Browns          0         43  Pittsburgh Steelers   \n",
              "3       Green Bay Packers         28         24      Oakland Raiders   \n",
              "4      Indianapolis Colts         31         14        Buffalo Bills   \n",
              "...                   ...        ...        ...                  ...   \n",
              "6416        Buffalo Bills         10         27   Cincinnati Bengals   \n",
              "6417  San Francisco 49ers         19         12       Dallas Cowboys   \n",
              "6418   Kansas City Chiefs         23         20   Cincinnati Bengals   \n",
              "6419  Philadelphia Eagles         31          7  San Francisco 49ers   \n",
              "6420  Philadelphia Eagles         35         38   Kansas City Chiefs   \n",
              "\n",
              "     team_favorite_id  ... avgyd_home avgyd_away effdown_home effdown_away  \\\n",
              "0                 MIN  ...   9.396693   6.481902      0.37931     0.279412   \n",
              "1                  KC  ...   1.339015   2.119453     0.301887     0.268657   \n",
              "2                 PIT  ...   0.746667   5.567066     0.071429     0.365591   \n",
              "3                  GB  ...   3.246723        NaN     0.357143          NaN   \n",
              "4                 BUF  ...   6.366402    3.13475     0.293103     0.283333   \n",
              "...               ...  ...        ...        ...          ...          ...   \n",
              "6416              BUF  ...   4.259077   5.647663     0.285714     0.410959   \n",
              "6417               SF  ...   4.140659   4.113333     0.313433     0.241935   \n",
              "6418               KC  ...   4.577976   3.080568     0.333333     0.276923   \n",
              "6419              PHI  ...   3.717381       3.07     0.352113     0.244444   \n",
              "6420              PHI  ...   4.740593   5.495833     0.337838     0.381818   \n",
              "\n",
              "     penalized_home penalized_away timepos_home timepos_away drives overtime  \n",
              "0               4.0            9.0     0.450636     0.549364   20.0      0.0  \n",
              "1               6.0            7.0      0.45683      0.54317   23.0      0.0  \n",
              "2               4.0            4.0     0.200167     0.799833   22.0      0.0  \n",
              "3               7.0            0.0          1.0          0.0   25.0      0.0  \n",
              "4               7.0           13.0     0.549321     0.450679   24.0      0.0  \n",
              "...             ...            ...          ...          ...    ...      ...  \n",
              "6416            8.0            2.0        0.435        0.565   17.0      0.0  \n",
              "6417            3.0            7.0     0.548056     0.451944   19.0      0.0  \n",
              "6418            4.0            9.0     0.547957     0.452043   21.0      0.0  \n",
              "6419            4.0           11.0     0.623889     0.376111   20.0      0.0  \n",
              "6420            6.0            3.0     0.596389     0.403611   18.0      0.0  \n",
              "\n",
              "[6421 rows x 38 columns]"
            ]
          },
          "execution_count": 8,
          "metadata": {},
          "output_type": "execute_result"
        }
      ],
      "source": [
        "columns = [\"td_home\",\"td_away\",\"extra_home\",\"extra_away\",\"conv_home\",\"conv_away\",\n",
        "           \"goal_home\",\"goal_away\",\"safety_home\",\"safety_away\",\"avgyd_home\",\n",
        "           \"avgyd_away\",\"effdown_home\",\"effdown_away\",\"penalized_home\",\"penalized_away\",\n",
        "           \"timepos_home\",\"timepos_away\",\"drives\",\"overtime\"]\n",
        "new_data = np.matrix([\n",
        "    td_home, td_away, extra_home, extra_away, conv_home, conv_away, goal_home, \n",
        "    goal_away, safety_home, safety_away, avgyd_home, avgyd_away, effdown_home, \n",
        "    effdown_away, penalized_home, penalized_away, timepos_home, timepos_away, \n",
        "    drives , overtime \n",
        "]).T\n",
        "nfl_scores_new = nfl_scores.values\n",
        "new_data = np.hstack((nfl_scores_new, new_data))\n",
        "\n",
        "new_data_nfl = pd.DataFrame(new_data, columns= (nfl_scores.columns.to_list()+columns))\n",
        "new_data_nfl"
      ]
    },
    {
      "cell_type": "code",
      "execution_count": 9,
      "metadata": {
        "id": "O3RfBNbUpko5"
      },
      "outputs": [],
      "source": [
        "new_data_nfl.to_csv(\"Datos/nfl_scores.csv\")"
      ]
    }
  ],
  "metadata": {
    "colab": {
      "provenance": []
    },
    "kernelspec": {
      "display_name": "Python 3",
      "name": "python3"
    },
    "language_info": {
      "codemirror_mode": {
        "name": "ipython",
        "version": 3
      },
      "file_extension": ".py",
      "mimetype": "text/x-python",
      "name": "python",
      "nbconvert_exporter": "python",
      "pygments_lexer": "ipython3",
      "version": "3.9.13"
    }
  },
  "nbformat": 4,
  "nbformat_minor": 0
}
